{
 "cells": [
  {
   "cell_type": "markdown",
   "metadata": {},
   "source": [
    "# Data Preparation"
   ]
  },
  {
   "cell_type": "code",
   "execution_count": 1,
   "metadata": {
    "collapsed": true,
    "hideCode": false,
    "hidePrompt": false
   },
   "outputs": [],
   "source": [
    "# Pandas is used for data manipulation\n",
    "import pandas as pd\n",
    "\n",
    "# Read in data as pandas dataframe and display first 5 rows\n",
    "#features = pd.read_csv('temps.csv')\n",
    "features = pd.read_csv('C:/Users/ashishranjan/Documents/cv_Data.csv')\n",
    "features.head(5)\n",
    "features = features.drop('EmployeeNumber',axis=1)"
   ]
  },
  {
   "cell_type": "code",
   "execution_count": 429,
   "metadata": {
    "collapsed": true
   },
   "outputs": [],
   "source": [
    "Y=features['Attrition']"
   ]
  },
  {
   "cell_type": "code",
   "execution_count": 430,
   "metadata": {
    "scrolled": true
   },
   "outputs": [
    {
     "data": {
      "text/plain": [
       "2    1233\n",
       "1     237\n",
       "Name: Attrition, dtype: int64"
      ]
     },
     "execution_count": 430,
     "metadata": {},
     "output_type": "execute_result"
    }
   ],
   "source": [
    "Y.value_counts()"
   ]
  },
  {
   "cell_type": "code",
   "execution_count": 431,
   "metadata": {
    "collapsed": true
   },
   "outputs": [],
   "source": [
    "features=features.drop('Attrition',axis=1)"
   ]
  },
  {
   "cell_type": "code",
   "execution_count": 432,
   "metadata": {},
   "outputs": [
    {
     "data": {
      "text/plain": [
       "Age                         int64\n",
       "BusinessTravel              int64\n",
       "DailyRate                   int64\n",
       "Department                  int64\n",
       "DistanceFromHome            int64\n",
       "Education                   int64\n",
       "EducationField              int64\n",
       "EmployeeCount               int64\n",
       "EnvironmentSatisfaction     int64\n",
       "Gender                      int64\n",
       "HourlyRate                  int64\n",
       "JobInvolvement              int64\n",
       "JobLevel                    int64\n",
       "JobRole                     int64\n",
       "JobSatisfaction             int64\n",
       "MaritalStatus               int64\n",
       "MonthlyIncome               int64\n",
       "MonthlyRate                 int64\n",
       "NumCompaniesWorked          int64\n",
       "OverTime                    int64\n",
       "PercentSalaryHike           int64\n",
       "PerformanceRating           int64\n",
       "RelationshipSatisfaction    int64\n",
       "StandardHours               int64\n",
       "StockOptionLevel            int64\n",
       "TotalWorkingYears           int64\n",
       "TrainingTimesLastYear       int64\n",
       "WorkLifeBalance             int64\n",
       "YearsAtCompany              int64\n",
       "YearsInCurrentRole          int64\n",
       "YearsSinceLastPromotion     int64\n",
       "YearsWithCurr7              int64\n",
       "dtype: object"
      ]
     },
     "execution_count": 432,
     "metadata": {},
     "output_type": "execute_result"
    }
   ],
   "source": [
    "features.dtypes"
   ]
  },
  {
   "cell_type": "code",
   "execution_count": 433,
   "metadata": {
    "hideCode": false,
    "hidePrompt": false
   },
   "outputs": [
    {
     "name": "stdout",
     "output_type": "stream",
     "text": [
      "The shape of our features is: (1470, 32)\n"
     ]
    }
   ],
   "source": [
    "print('The shape of our features is:', features.shape)"
   ]
  },
  {
   "cell_type": "markdown",
   "metadata": {},
   "source": [
    "## One-Hot Encoding"
   ]
  },
  {
   "cell_type": "markdown",
   "metadata": {},
   "source": [
    "One hot encoding takes this:\n",
    "\n",
    "| week |\n",
    "|------|\n",
    "| Mon  |\n",
    "| Tue  |\n",
    "| Wed  |\n",
    "| Thu  |\n",
    "| Fri  |\n",
    "\n",
    "and converts it into:\n",
    "\n",
    "| Mon | Tue | Wed | Thu | Fri |\n",
    "|-----|-----|-----|-----|-----|\n",
    "| 1   | 0   | 0   | 0   | 0   |\n",
    "| 0   | 1   | 0   | 0   | 0   |\n",
    "| 0   | 0   | 1   | 0   | 0   |\n",
    "| 0   | 0   | 0   | 1   | 0   |\n",
    "| 0   | 0   | 0   | 0   | 1   |"
   ]
  },
  {
   "cell_type": "code",
   "execution_count": 434,
   "metadata": {
    "collapsed": true
   },
   "outputs": [],
   "source": [
    "df = pd.DataFrame([(1,'wood'),(2,'metal'),(1,'wood'),(2,'wood')],\n",
    "                         columns=['C1','C2'])"
   ]
  },
  {
   "cell_type": "code",
   "execution_count": 435,
   "metadata": {
    "collapsed": true
   },
   "outputs": [],
   "source": [
    "df['C1']=(df['C1'].astype(str))"
   ]
  },
  {
   "cell_type": "code",
   "execution_count": 436,
   "metadata": {
    "scrolled": true
   },
   "outputs": [
    {
     "data": {
      "text/plain": [
       "0    1\n",
       "1    2\n",
       "2    1\n",
       "3    2\n",
       "Name: C1, dtype: object"
      ]
     },
     "execution_count": 436,
     "metadata": {},
     "output_type": "execute_result"
    }
   ],
   "source": [
    "df.C1"
   ]
  },
  {
   "cell_type": "code",
   "execution_count": 437,
   "metadata": {
    "collapsed": true
   },
   "outputs": [],
   "source": [
    "features.iloc[:, [1,3,5,6,8,11,12,13,14,15,19,21,22,24,27]] = features.iloc[:, [1,3,5,6,8,11,12,13,14,15,19,21,22,24,27]].astype(str)"
   ]
  },
  {
   "cell_type": "code",
   "execution_count": 438,
   "metadata": {
    "scrolled": true
   },
   "outputs": [
    {
     "data": {
      "text/plain": [
       "0       41\n",
       "1       49\n",
       "2       37\n",
       "3       33\n",
       "4       27\n",
       "5       32\n",
       "6       59\n",
       "7       30\n",
       "8       38\n",
       "9       36\n",
       "10      35\n",
       "11      29\n",
       "12      31\n",
       "13      34\n",
       "14      28\n",
       "15      29\n",
       "16      32\n",
       "17      22\n",
       "18      53\n",
       "19      38\n",
       "20      24\n",
       "21      36\n",
       "22      34\n",
       "23      21\n",
       "24      34\n",
       "25      53\n",
       "26      32\n",
       "27      42\n",
       "28      44\n",
       "29      46\n",
       "        ..\n",
       "1440    36\n",
       "1441    56\n",
       "1442    29\n",
       "1443    42\n",
       "1444    56\n",
       "1445    41\n",
       "1446    34\n",
       "1447    36\n",
       "1448    41\n",
       "1449    32\n",
       "1450    35\n",
       "1451    38\n",
       "1452    50\n",
       "1453    36\n",
       "1454    45\n",
       "1455    40\n",
       "1456    35\n",
       "1457    40\n",
       "1458    35\n",
       "1459    29\n",
       "1460    29\n",
       "1461    50\n",
       "1462    39\n",
       "1463    31\n",
       "1464    26\n",
       "1465    36\n",
       "1466    39\n",
       "1467    27\n",
       "1468    49\n",
       "1469    34\n",
       "Name: Age, Length: 1470, dtype: int64"
      ]
     },
     "execution_count": 438,
     "metadata": {},
     "output_type": "execute_result"
    }
   ],
   "source": [
    "features.Age"
   ]
  },
  {
   "cell_type": "code",
   "execution_count": 439,
   "metadata": {},
   "outputs": [
    {
     "data": {
      "text/plain": [
       "C1    object\n",
       "C2    object\n",
       "dtype: object"
      ]
     },
     "execution_count": 439,
     "metadata": {},
     "output_type": "execute_result"
    }
   ],
   "source": [
    "df.dtypes"
   ]
  },
  {
   "cell_type": "code",
   "execution_count": 440,
   "metadata": {},
   "outputs": [
    {
     "data": {
      "text/html": [
       "<div>\n",
       "<style>\n",
       "    .dataframe thead tr:only-child th {\n",
       "        text-align: right;\n",
       "    }\n",
       "\n",
       "    .dataframe thead th {\n",
       "        text-align: left;\n",
       "    }\n",
       "\n",
       "    .dataframe tbody tr th {\n",
       "        vertical-align: top;\n",
       "    }\n",
       "</style>\n",
       "<table border=\"1\" class=\"dataframe\">\n",
       "  <thead>\n",
       "    <tr style=\"text-align: right;\">\n",
       "      <th></th>\n",
       "      <th>C1_1</th>\n",
       "      <th>C1_2</th>\n",
       "      <th>C2_metal</th>\n",
       "      <th>C2_wood</th>\n",
       "    </tr>\n",
       "  </thead>\n",
       "  <tbody>\n",
       "    <tr>\n",
       "      <th>0</th>\n",
       "      <td>1</td>\n",
       "      <td>0</td>\n",
       "      <td>0</td>\n",
       "      <td>1</td>\n",
       "    </tr>\n",
       "    <tr>\n",
       "      <th>1</th>\n",
       "      <td>0</td>\n",
       "      <td>1</td>\n",
       "      <td>1</td>\n",
       "      <td>0</td>\n",
       "    </tr>\n",
       "    <tr>\n",
       "      <th>2</th>\n",
       "      <td>1</td>\n",
       "      <td>0</td>\n",
       "      <td>0</td>\n",
       "      <td>1</td>\n",
       "    </tr>\n",
       "    <tr>\n",
       "      <th>3</th>\n",
       "      <td>0</td>\n",
       "      <td>1</td>\n",
       "      <td>0</td>\n",
       "      <td>1</td>\n",
       "    </tr>\n",
       "  </tbody>\n",
       "</table>\n",
       "</div>"
      ],
      "text/plain": [
       "   C1_1  C1_2  C2_metal  C2_wood\n",
       "0     1     0         0        1\n",
       "1     0     1         1        0\n",
       "2     1     0         0        1\n",
       "3     0     1         0        1"
      ]
     },
     "execution_count": 440,
     "metadata": {},
     "output_type": "execute_result"
    }
   ],
   "source": [
    "pd.get_dummies(df)"
   ]
  },
  {
   "cell_type": "code",
   "execution_count": 441,
   "metadata": {},
   "outputs": [
    {
     "data": {
      "text/plain": [
       "(1470, 79)"
      ]
     },
     "execution_count": 441,
     "metadata": {},
     "output_type": "execute_result"
    }
   ],
   "source": [
    "features = pd.get_dummies(features)\n",
    "features.shape"
   ]
  },
  {
   "cell_type": "code",
   "execution_count": 442,
   "metadata": {},
   "outputs": [
    {
     "data": {
      "text/plain": [
       "Age                           int64\n",
       "DailyRate                     int64\n",
       "DistanceFromHome              int64\n",
       "EmployeeCount                 int64\n",
       "Gender                        int64\n",
       "HourlyRate                    int64\n",
       "MonthlyIncome                 int64\n",
       "MonthlyRate                   int64\n",
       "NumCompaniesWorked            int64\n",
       "PercentSalaryHike             int64\n",
       "StandardHours                 int64\n",
       "TotalWorkingYears             int64\n",
       "TrainingTimesLastYear         int64\n",
       "YearsAtCompany                int64\n",
       "YearsInCurrentRole            int64\n",
       "YearsSinceLastPromotion       int64\n",
       "YearsWithCurr7                int64\n",
       "BusinessTravel_1              uint8\n",
       "BusinessTravel_2              uint8\n",
       "BusinessTravel_3              uint8\n",
       "Department_1                  uint8\n",
       "Department_2                  uint8\n",
       "Department_3                  uint8\n",
       "Education_1                   uint8\n",
       "Education_2                   uint8\n",
       "Education_3                   uint8\n",
       "Education_4                   uint8\n",
       "Education_5                   uint8\n",
       "EducationField_1              uint8\n",
       "EducationField_2              uint8\n",
       "                              ...  \n",
       "JobRole_3                     uint8\n",
       "JobRole_4                     uint8\n",
       "JobRole_5                     uint8\n",
       "JobRole_6                     uint8\n",
       "JobRole_7                     uint8\n",
       "JobRole_8                     uint8\n",
       "JobRole_9                     uint8\n",
       "JobSatisfaction_1             uint8\n",
       "JobSatisfaction_2             uint8\n",
       "JobSatisfaction_3             uint8\n",
       "JobSatisfaction_4             uint8\n",
       "MaritalStatus_1               uint8\n",
       "MaritalStatus_2               uint8\n",
       "MaritalStatus_3               uint8\n",
       "OverTime_1                    uint8\n",
       "OverTime_2                    uint8\n",
       "PerformanceRating_3           uint8\n",
       "PerformanceRating_4           uint8\n",
       "RelationshipSatisfaction_1    uint8\n",
       "RelationshipSatisfaction_2    uint8\n",
       "RelationshipSatisfaction_3    uint8\n",
       "RelationshipSatisfaction_4    uint8\n",
       "StockOptionLevel_0            uint8\n",
       "StockOptionLevel_1            uint8\n",
       "StockOptionLevel_2            uint8\n",
       "StockOptionLevel_3            uint8\n",
       "WorkLifeBalance_1             uint8\n",
       "WorkLifeBalance_2             uint8\n",
       "WorkLifeBalance_3             uint8\n",
       "WorkLifeBalance_4             uint8\n",
       "Length: 79, dtype: object"
      ]
     },
     "execution_count": 442,
     "metadata": {},
     "output_type": "execute_result"
    }
   ],
   "source": [
    "features.dtypes"
   ]
  },
  {
   "cell_type": "code",
   "execution_count": 443,
   "metadata": {},
   "outputs": [
    {
     "data": {
      "text/html": [
       "<div>\n",
       "<style>\n",
       "    .dataframe thead tr:only-child th {\n",
       "        text-align: right;\n",
       "    }\n",
       "\n",
       "    .dataframe thead th {\n",
       "        text-align: left;\n",
       "    }\n",
       "\n",
       "    .dataframe tbody tr th {\n",
       "        vertical-align: top;\n",
       "    }\n",
       "</style>\n",
       "<table border=\"1\" class=\"dataframe\">\n",
       "  <thead>\n",
       "    <tr style=\"text-align: right;\">\n",
       "      <th></th>\n",
       "      <th>Age</th>\n",
       "      <th>DailyRate</th>\n",
       "      <th>DistanceFromHome</th>\n",
       "      <th>EmployeeCount</th>\n",
       "      <th>Gender</th>\n",
       "      <th>HourlyRate</th>\n",
       "      <th>MonthlyIncome</th>\n",
       "      <th>MonthlyRate</th>\n",
       "      <th>NumCompaniesWorked</th>\n",
       "      <th>PercentSalaryHike</th>\n",
       "      <th>...</th>\n",
       "      <th>RelationshipSatisfaction_3</th>\n",
       "      <th>RelationshipSatisfaction_4</th>\n",
       "      <th>StockOptionLevel_0</th>\n",
       "      <th>StockOptionLevel_1</th>\n",
       "      <th>StockOptionLevel_2</th>\n",
       "      <th>StockOptionLevel_3</th>\n",
       "      <th>WorkLifeBalance_1</th>\n",
       "      <th>WorkLifeBalance_2</th>\n",
       "      <th>WorkLifeBalance_3</th>\n",
       "      <th>WorkLifeBalance_4</th>\n",
       "    </tr>\n",
       "  </thead>\n",
       "  <tbody>\n",
       "    <tr>\n",
       "      <th>count</th>\n",
       "      <td>1470.000000</td>\n",
       "      <td>1470.000000</td>\n",
       "      <td>1470.000000</td>\n",
       "      <td>1470.0</td>\n",
       "      <td>1470.000000</td>\n",
       "      <td>1470.000000</td>\n",
       "      <td>1470.000000</td>\n",
       "      <td>1470.000000</td>\n",
       "      <td>1470.000000</td>\n",
       "      <td>1470.000000</td>\n",
       "      <td>...</td>\n",
       "      <td>1470.000000</td>\n",
       "      <td>1470.000000</td>\n",
       "      <td>1470.000000</td>\n",
       "      <td>1470.000000</td>\n",
       "      <td>1470.000000</td>\n",
       "      <td>1470.000000</td>\n",
       "      <td>1470.000000</td>\n",
       "      <td>1470.000000</td>\n",
       "      <td>1470.000000</td>\n",
       "      <td>1470.000000</td>\n",
       "    </tr>\n",
       "    <tr>\n",
       "      <th>mean</th>\n",
       "      <td>36.923810</td>\n",
       "      <td>802.485714</td>\n",
       "      <td>9.192517</td>\n",
       "      <td>1.0</td>\n",
       "      <td>0.600000</td>\n",
       "      <td>65.891156</td>\n",
       "      <td>6502.931293</td>\n",
       "      <td>14313.103401</td>\n",
       "      <td>2.693197</td>\n",
       "      <td>15.209524</td>\n",
       "      <td>...</td>\n",
       "      <td>0.312245</td>\n",
       "      <td>0.293878</td>\n",
       "      <td>0.429252</td>\n",
       "      <td>0.405442</td>\n",
       "      <td>0.107483</td>\n",
       "      <td>0.057823</td>\n",
       "      <td>0.054422</td>\n",
       "      <td>0.234014</td>\n",
       "      <td>0.607483</td>\n",
       "      <td>0.104082</td>\n",
       "    </tr>\n",
       "    <tr>\n",
       "      <th>std</th>\n",
       "      <td>9.135373</td>\n",
       "      <td>403.509100</td>\n",
       "      <td>8.106864</td>\n",
       "      <td>0.0</td>\n",
       "      <td>0.490065</td>\n",
       "      <td>20.329428</td>\n",
       "      <td>4707.956783</td>\n",
       "      <td>7117.786044</td>\n",
       "      <td>2.498009</td>\n",
       "      <td>3.659938</td>\n",
       "      <td>...</td>\n",
       "      <td>0.463567</td>\n",
       "      <td>0.455692</td>\n",
       "      <td>0.495138</td>\n",
       "      <td>0.491144</td>\n",
       "      <td>0.309832</td>\n",
       "      <td>0.233488</td>\n",
       "      <td>0.226925</td>\n",
       "      <td>0.423525</td>\n",
       "      <td>0.488477</td>\n",
       "      <td>0.305470</td>\n",
       "    </tr>\n",
       "    <tr>\n",
       "      <th>min</th>\n",
       "      <td>18.000000</td>\n",
       "      <td>102.000000</td>\n",
       "      <td>1.000000</td>\n",
       "      <td>1.0</td>\n",
       "      <td>0.000000</td>\n",
       "      <td>30.000000</td>\n",
       "      <td>1009.000000</td>\n",
       "      <td>2094.000000</td>\n",
       "      <td>0.000000</td>\n",
       "      <td>11.000000</td>\n",
       "      <td>...</td>\n",
       "      <td>0.000000</td>\n",
       "      <td>0.000000</td>\n",
       "      <td>0.000000</td>\n",
       "      <td>0.000000</td>\n",
       "      <td>0.000000</td>\n",
       "      <td>0.000000</td>\n",
       "      <td>0.000000</td>\n",
       "      <td>0.000000</td>\n",
       "      <td>0.000000</td>\n",
       "      <td>0.000000</td>\n",
       "    </tr>\n",
       "    <tr>\n",
       "      <th>25%</th>\n",
       "      <td>30.000000</td>\n",
       "      <td>465.000000</td>\n",
       "      <td>2.000000</td>\n",
       "      <td>1.0</td>\n",
       "      <td>0.000000</td>\n",
       "      <td>48.000000</td>\n",
       "      <td>2911.000000</td>\n",
       "      <td>8047.000000</td>\n",
       "      <td>1.000000</td>\n",
       "      <td>12.000000</td>\n",
       "      <td>...</td>\n",
       "      <td>0.000000</td>\n",
       "      <td>0.000000</td>\n",
       "      <td>0.000000</td>\n",
       "      <td>0.000000</td>\n",
       "      <td>0.000000</td>\n",
       "      <td>0.000000</td>\n",
       "      <td>0.000000</td>\n",
       "      <td>0.000000</td>\n",
       "      <td>0.000000</td>\n",
       "      <td>0.000000</td>\n",
       "    </tr>\n",
       "    <tr>\n",
       "      <th>50%</th>\n",
       "      <td>36.000000</td>\n",
       "      <td>802.000000</td>\n",
       "      <td>7.000000</td>\n",
       "      <td>1.0</td>\n",
       "      <td>1.000000</td>\n",
       "      <td>66.000000</td>\n",
       "      <td>4919.000000</td>\n",
       "      <td>14235.500000</td>\n",
       "      <td>2.000000</td>\n",
       "      <td>14.000000</td>\n",
       "      <td>...</td>\n",
       "      <td>0.000000</td>\n",
       "      <td>0.000000</td>\n",
       "      <td>0.000000</td>\n",
       "      <td>0.000000</td>\n",
       "      <td>0.000000</td>\n",
       "      <td>0.000000</td>\n",
       "      <td>0.000000</td>\n",
       "      <td>0.000000</td>\n",
       "      <td>1.000000</td>\n",
       "      <td>0.000000</td>\n",
       "    </tr>\n",
       "    <tr>\n",
       "      <th>75%</th>\n",
       "      <td>43.000000</td>\n",
       "      <td>1157.000000</td>\n",
       "      <td>14.000000</td>\n",
       "      <td>1.0</td>\n",
       "      <td>1.000000</td>\n",
       "      <td>83.750000</td>\n",
       "      <td>8379.000000</td>\n",
       "      <td>20461.500000</td>\n",
       "      <td>4.000000</td>\n",
       "      <td>18.000000</td>\n",
       "      <td>...</td>\n",
       "      <td>1.000000</td>\n",
       "      <td>1.000000</td>\n",
       "      <td>1.000000</td>\n",
       "      <td>1.000000</td>\n",
       "      <td>0.000000</td>\n",
       "      <td>0.000000</td>\n",
       "      <td>0.000000</td>\n",
       "      <td>0.000000</td>\n",
       "      <td>1.000000</td>\n",
       "      <td>0.000000</td>\n",
       "    </tr>\n",
       "    <tr>\n",
       "      <th>max</th>\n",
       "      <td>60.000000</td>\n",
       "      <td>1499.000000</td>\n",
       "      <td>29.000000</td>\n",
       "      <td>1.0</td>\n",
       "      <td>1.000000</td>\n",
       "      <td>100.000000</td>\n",
       "      <td>19999.000000</td>\n",
       "      <td>26999.000000</td>\n",
       "      <td>9.000000</td>\n",
       "      <td>25.000000</td>\n",
       "      <td>...</td>\n",
       "      <td>1.000000</td>\n",
       "      <td>1.000000</td>\n",
       "      <td>1.000000</td>\n",
       "      <td>1.000000</td>\n",
       "      <td>1.000000</td>\n",
       "      <td>1.000000</td>\n",
       "      <td>1.000000</td>\n",
       "      <td>1.000000</td>\n",
       "      <td>1.000000</td>\n",
       "      <td>1.000000</td>\n",
       "    </tr>\n",
       "  </tbody>\n",
       "</table>\n",
       "<p>8 rows × 79 columns</p>\n",
       "</div>"
      ],
      "text/plain": [
       "               Age    DailyRate  DistanceFromHome  EmployeeCount       Gender  \\\n",
       "count  1470.000000  1470.000000       1470.000000         1470.0  1470.000000   \n",
       "mean     36.923810   802.485714          9.192517            1.0     0.600000   \n",
       "std       9.135373   403.509100          8.106864            0.0     0.490065   \n",
       "min      18.000000   102.000000          1.000000            1.0     0.000000   \n",
       "25%      30.000000   465.000000          2.000000            1.0     0.000000   \n",
       "50%      36.000000   802.000000          7.000000            1.0     1.000000   \n",
       "75%      43.000000  1157.000000         14.000000            1.0     1.000000   \n",
       "max      60.000000  1499.000000         29.000000            1.0     1.000000   \n",
       "\n",
       "        HourlyRate  MonthlyIncome   MonthlyRate  NumCompaniesWorked  \\\n",
       "count  1470.000000    1470.000000   1470.000000         1470.000000   \n",
       "mean     65.891156    6502.931293  14313.103401            2.693197   \n",
       "std      20.329428    4707.956783   7117.786044            2.498009   \n",
       "min      30.000000    1009.000000   2094.000000            0.000000   \n",
       "25%      48.000000    2911.000000   8047.000000            1.000000   \n",
       "50%      66.000000    4919.000000  14235.500000            2.000000   \n",
       "75%      83.750000    8379.000000  20461.500000            4.000000   \n",
       "max     100.000000   19999.000000  26999.000000            9.000000   \n",
       "\n",
       "       PercentSalaryHike        ...          RelationshipSatisfaction_3  \\\n",
       "count        1470.000000        ...                         1470.000000   \n",
       "mean           15.209524        ...                            0.312245   \n",
       "std             3.659938        ...                            0.463567   \n",
       "min            11.000000        ...                            0.000000   \n",
       "25%            12.000000        ...                            0.000000   \n",
       "50%            14.000000        ...                            0.000000   \n",
       "75%            18.000000        ...                            1.000000   \n",
       "max            25.000000        ...                            1.000000   \n",
       "\n",
       "       RelationshipSatisfaction_4  StockOptionLevel_0  StockOptionLevel_1  \\\n",
       "count                 1470.000000         1470.000000         1470.000000   \n",
       "mean                     0.293878            0.429252            0.405442   \n",
       "std                      0.455692            0.495138            0.491144   \n",
       "min                      0.000000            0.000000            0.000000   \n",
       "25%                      0.000000            0.000000            0.000000   \n",
       "50%                      0.000000            0.000000            0.000000   \n",
       "75%                      1.000000            1.000000            1.000000   \n",
       "max                      1.000000            1.000000            1.000000   \n",
       "\n",
       "       StockOptionLevel_2  StockOptionLevel_3  WorkLifeBalance_1  \\\n",
       "count         1470.000000         1470.000000        1470.000000   \n",
       "mean             0.107483            0.057823           0.054422   \n",
       "std              0.309832            0.233488           0.226925   \n",
       "min              0.000000            0.000000           0.000000   \n",
       "25%              0.000000            0.000000           0.000000   \n",
       "50%              0.000000            0.000000           0.000000   \n",
       "75%              0.000000            0.000000           0.000000   \n",
       "max              1.000000            1.000000           1.000000   \n",
       "\n",
       "       WorkLifeBalance_2  WorkLifeBalance_3  WorkLifeBalance_4  \n",
       "count        1470.000000        1470.000000        1470.000000  \n",
       "mean            0.234014           0.607483           0.104082  \n",
       "std             0.423525           0.488477           0.305470  \n",
       "min             0.000000           0.000000           0.000000  \n",
       "25%             0.000000           0.000000           0.000000  \n",
       "50%             0.000000           1.000000           0.000000  \n",
       "75%             0.000000           1.000000           0.000000  \n",
       "max             1.000000           1.000000           1.000000  \n",
       "\n",
       "[8 rows x 79 columns]"
      ]
     },
     "execution_count": 443,
     "metadata": {},
     "output_type": "execute_result"
    }
   ],
   "source": [
    "features.describe()"
   ]
  },
  {
   "cell_type": "code",
   "execution_count": 444,
   "metadata": {
    "collapsed": true
   },
   "outputs": [],
   "source": [
    "from sklearn.preprocessing import LabelEncoder, OneHotEncoder\n",
    "\n",
    "#onehotencoder = OneHotEncoder(categorical_features = [0])\n",
    "#X = onehotencoder.fit_transform(X).toarray()"
   ]
  },
  {
   "cell_type": "code",
   "execution_count": 445,
   "metadata": {
    "collapsed": true
   },
   "outputs": [],
   "source": [
    "onehotencoder =OneHotEncoder(categorical_features =[1,3,5,6,8,11,12,13,14,15,19,21,22,24,27])\n",
    "X = onehotencoder.fit_transform(features)"
   ]
  },
  {
   "cell_type": "code",
   "execution_count": 58,
   "metadata": {},
   "outputs": [
    {
     "data": {
      "text/plain": [
       "<1470x79 sparse matrix of type '<class 'numpy.float64'>'\n",
       "\twith 45058 stored elements in COOrdinate format>"
      ]
     },
     "execution_count": 58,
     "metadata": {},
     "output_type": "execute_result"
    }
   ],
   "source": [
    "X"
   ]
  },
  {
   "cell_type": "code",
   "execution_count": 305,
   "metadata": {
    "hideCode": false,
    "hidePrompt": false
   },
   "outputs": [
    {
     "data": {
      "text/plain": [
       "(1470, 79)"
      ]
     },
     "execution_count": 305,
     "metadata": {},
     "output_type": "execute_result"
    }
   ],
   "source": [
    "# One-hot encode categorical features\n",
    "features = pd.get_dummies(features)\n",
    "features.shape"
   ]
  },
  {
   "cell_type": "code",
   "execution_count": 306,
   "metadata": {},
   "outputs": [
    {
     "name": "stdout",
     "output_type": "stream",
     "text": [
      "Shape of features after one-hot encoding: (1470, 79)\n"
     ]
    }
   ],
   "source": [
    "print('Shape of features after one-hot encoding:', features.shape)"
   ]
  },
  {
   "cell_type": "markdown",
   "metadata": {},
   "source": [
    "## Features and Labels"
   ]
  },
  {
   "cell_type": "code",
   "execution_count": 446,
   "metadata": {},
   "outputs": [
    {
     "data": {
      "text/plain": [
       "(1470, 79)"
      ]
     },
     "execution_count": 446,
     "metadata": {},
     "output_type": "execute_result"
    }
   ],
   "source": [
    "features.columns\n",
    "features.shape"
   ]
  },
  {
   "cell_type": "code",
   "execution_count": 447,
   "metadata": {
    "collapsed": true
   },
   "outputs": [],
   "source": [
    "# Use numpy to convert to arrays\n",
    "import numpy as np\n",
    "\n",
    "# Labels are the values we want to predict\n",
    "labels = Y.values\n",
    "\n",
    "# Remove the labels from the features\n",
    "# axis 1 refers to the columns\n",
    "#features= features.drop('actual', axis = 1)\n",
    "\n",
    "# Saving feature names for later use\n",
    "feature_list = list(features.columns)\n",
    "\n",
    "# Convert to numpy array\n",
    "features = X.toarray()"
   ]
  },
  {
   "cell_type": "code",
   "execution_count": 448,
   "metadata": {},
   "outputs": [
    {
     "data": {
      "text/plain": [
       "['Age',\n",
       " 'DailyRate',\n",
       " 'DistanceFromHome',\n",
       " 'EmployeeCount',\n",
       " 'Gender',\n",
       " 'HourlyRate',\n",
       " 'MonthlyIncome',\n",
       " 'MonthlyRate',\n",
       " 'NumCompaniesWorked',\n",
       " 'PercentSalaryHike',\n",
       " 'StandardHours',\n",
       " 'TotalWorkingYears',\n",
       " 'TrainingTimesLastYear',\n",
       " 'YearsAtCompany',\n",
       " 'YearsInCurrentRole',\n",
       " 'YearsSinceLastPromotion',\n",
       " 'YearsWithCurr7',\n",
       " 'BusinessTravel_1',\n",
       " 'BusinessTravel_2',\n",
       " 'BusinessTravel_3',\n",
       " 'Department_1',\n",
       " 'Department_2',\n",
       " 'Department_3',\n",
       " 'Education_1',\n",
       " 'Education_2',\n",
       " 'Education_3',\n",
       " 'Education_4',\n",
       " 'Education_5',\n",
       " 'EducationField_1',\n",
       " 'EducationField_2',\n",
       " 'EducationField_3',\n",
       " 'EducationField_4',\n",
       " 'EducationField_5',\n",
       " 'EducationField_6',\n",
       " 'EnvironmentSatisfaction_1',\n",
       " 'EnvironmentSatisfaction_2',\n",
       " 'EnvironmentSatisfaction_3',\n",
       " 'EnvironmentSatisfaction_4',\n",
       " 'JobInvolvement_1',\n",
       " 'JobInvolvement_2',\n",
       " 'JobInvolvement_3',\n",
       " 'JobInvolvement_4',\n",
       " 'JobLevel_1',\n",
       " 'JobLevel_2',\n",
       " 'JobLevel_3',\n",
       " 'JobLevel_4',\n",
       " 'JobLevel_5',\n",
       " 'JobRole_1',\n",
       " 'JobRole_2',\n",
       " 'JobRole_3',\n",
       " 'JobRole_4',\n",
       " 'JobRole_5',\n",
       " 'JobRole_6',\n",
       " 'JobRole_7',\n",
       " 'JobRole_8',\n",
       " 'JobRole_9',\n",
       " 'JobSatisfaction_1',\n",
       " 'JobSatisfaction_2',\n",
       " 'JobSatisfaction_3',\n",
       " 'JobSatisfaction_4',\n",
       " 'MaritalStatus_1',\n",
       " 'MaritalStatus_2',\n",
       " 'MaritalStatus_3',\n",
       " 'OverTime_1',\n",
       " 'OverTime_2',\n",
       " 'PerformanceRating_3',\n",
       " 'PerformanceRating_4',\n",
       " 'RelationshipSatisfaction_1',\n",
       " 'RelationshipSatisfaction_2',\n",
       " 'RelationshipSatisfaction_3',\n",
       " 'RelationshipSatisfaction_4',\n",
       " 'StockOptionLevel_0',\n",
       " 'StockOptionLevel_1',\n",
       " 'StockOptionLevel_2',\n",
       " 'StockOptionLevel_3',\n",
       " 'WorkLifeBalance_1',\n",
       " 'WorkLifeBalance_2',\n",
       " 'WorkLifeBalance_3',\n",
       " 'WorkLifeBalance_4']"
      ]
     },
     "execution_count": 448,
     "metadata": {},
     "output_type": "execute_result"
    }
   ],
   "source": [
    "feature_list\n",
    "#labels"
   ]
  },
  {
   "cell_type": "code",
   "execution_count": 449,
   "metadata": {
    "collapsed": true
   },
   "outputs": [],
   "source": [
    "features = features.astype('float32')"
   ]
  },
  {
   "cell_type": "markdown",
   "metadata": {},
   "source": [
    "## Training and Testing Sets"
   ]
  },
  {
   "cell_type": "code",
   "execution_count": 450,
   "metadata": {
    "collapsed": true
   },
   "outputs": [],
   "source": [
    "# Using Skicit-learn to split data into training and testing sets\n",
    "from sklearn.model_selection import train_test_split\n",
    "\n",
    "# Split the data into training and testing sets\n",
    "train_features, test_features, train_labels, test_labels = train_test_split(features, labels, test_size = 0.25,\n",
    "                                                                           random_state = 42)"
   ]
  },
  {
   "cell_type": "code",
   "execution_count": 451,
   "metadata": {
    "scrolled": false
   },
   "outputs": [
    {
     "name": "stdout",
     "output_type": "stream",
     "text": [
      "Training Features Shape: (1102, 2510)\n",
      "Training Labels Shape: (1102,)\n",
      "Testing Features Shape: (368, 2510)\n",
      "Testing Labels Shape: (368,)\n"
     ]
    }
   ],
   "source": [
    "print('Training Features Shape:', train_features.shape)\n",
    "print('Training Labels Shape:', train_labels.shape)\n",
    "print('Testing Features Shape:', test_features.shape)\n",
    "print('Testing Labels Shape:', test_labels.shape)"
   ]
  },
  {
   "cell_type": "code",
   "execution_count": 452,
   "metadata": {
    "collapsed": true
   },
   "outputs": [],
   "source": [
    "type(train_labels)\n",
    "train_labels=np.where(train_labels==2,0,1)\n",
    "test_lables=np.where(test_labels==2,0,1)"
   ]
  },
  {
   "cell_type": "code",
   "execution_count": 453,
   "metadata": {},
   "outputs": [
    {
     "data": {
      "text/plain": [
       "(1102,)"
      ]
     },
     "execution_count": 453,
     "metadata": {},
     "output_type": "execute_result"
    }
   ],
   "source": [
    "train_labels.shape"
   ]
  },
  {
   "cell_type": "code",
   "execution_count": 454,
   "metadata": {},
   "outputs": [
    {
     "data": {
      "text/plain": [
       "48"
      ]
     },
     "execution_count": 454,
     "metadata": {},
     "output_type": "execute_result"
    }
   ],
   "source": [
    "sum(test_lables==1)\n",
    "#rain_labels"
   ]
  },
  {
   "cell_type": "code",
   "execution_count": 455,
   "metadata": {
    "scrolled": true
   },
   "outputs": [
    {
     "data": {
      "text/plain": [
       "array([[0., 0., 0., ..., 0., 1., 0.],\n",
       "       [0., 0., 0., ..., 0., 1., 0.],\n",
       "       [0., 0., 0., ..., 0., 1., 0.],\n",
       "       ...,\n",
       "       [0., 0., 0., ..., 0., 1., 0.],\n",
       "       [0., 0., 0., ..., 0., 1., 0.],\n",
       "       [0., 0., 0., ..., 0., 0., 1.]], dtype=float32)"
      ]
     },
     "execution_count": 455,
     "metadata": {},
     "output_type": "execute_result"
    }
   ],
   "source": [
    "test_features"
   ]
  },
  {
   "cell_type": "code",
   "execution_count": 459,
   "metadata": {
    "collapsed": true
   },
   "outputs": [],
   "source": [
    "rf = RandomForestClassifier()\n",
    "rf.fit(train_features, train_labels)\n",
    "y_pred = rf.predict(test_features)"
   ]
  },
  {
   "cell_type": "code",
   "execution_count": 457,
   "metadata": {},
   "outputs": [
    {
     "data": {
      "text/plain": [
       "(1102,)"
      ]
     },
     "execution_count": 457,
     "metadata": {},
     "output_type": "execute_result"
    }
   ],
   "source": [
    "y_pred.shape"
   ]
  },
  {
   "cell_type": "code",
   "execution_count": 460,
   "metadata": {},
   "outputs": [
    {
     "data": {
      "text/plain": [
       "0.5281250000000001"
      ]
     },
     "execution_count": 460,
     "metadata": {},
     "output_type": "execute_result"
    }
   ],
   "source": [
    "from sklearn.metrics import roc_curve, auc\n",
    "false_positive_rate, true_positive_rate, thresholds = roc_curve(test_lables, y_pred)\n",
    "roc_auc = auc(false_positive_rate, true_positive_rate)\n",
    "roc_auc"
   ]
  },
  {
   "cell_type": "code",
   "execution_count": 463,
   "metadata": {
    "collapsed": true
   },
   "outputs": [],
   "source": [
    "train_results = []\n",
    "test_results = []\n",
    "for estimator in n_estimators:\n",
    "    rf = RandomForestClassifier(n_estimators=estimator, n_jobs=-1)\n",
    "    rf.fit(train_features, train_labels)\n",
    "    train_pred = rf.predict(train_features)\n",
    "    false_positive_rate, true_positive_rate, thresholds = roc_curve(train_labels, train_pred)\n",
    "    roc_auc = auc(false_positive_rate, true_positive_rate)\n",
    "    train_results.append(roc_auc)\n",
    "    y_pred = rf.predict(test_features)\n",
    "    false_positive_rate, true_positive_rate, thresholds = roc_curve(test_lables, y_pred)\n",
    "    roc_auc = auc(false_positive_rate, true_positive_rate)\n",
    "    test_results.append(roc_auc)\n"
   ]
  },
  {
   "cell_type": "code",
   "execution_count": 473,
   "metadata": {},
   "outputs": [
    {
     "data": {
      "text/plain": [
       "[1.0, 1.0, 1.0, 1.0, 1.0, 1.0, 1.0, 1.0, 1.0, 1.0]"
      ]
     },
     "execution_count": 473,
     "metadata": {},
     "output_type": "execute_result"
    }
   ],
   "source": [
    "test_results\n",
    "train_results"
   ]
  },
  {
   "cell_type": "code",
   "execution_count": 471,
   "metadata": {
    "scrolled": true
   },
   "outputs": [
    {
     "ename": "SyntaxError",
     "evalue": "invalid character in identifier (<ipython-input-471-97b25af0e85f>, line 4)",
     "output_type": "error",
     "traceback": [
      "\u001b[1;36m  File \u001b[1;32m\"<ipython-input-471-97b25af0e85f>\"\u001b[1;36m, line \u001b[1;32m4\u001b[0m\n\u001b[1;33m    plt.plot(n_estimators, train_results, label=”Train AUC”)\u001b[0m\n\u001b[1;37m                                                     ^\u001b[0m\n\u001b[1;31mSyntaxError\u001b[0m\u001b[1;31m:\u001b[0m invalid character in identifier\n"
     ]
    }
   ],
   "source": [
    "import matplotlib.pyplot as plt\n",
    "import numpy as np\n",
    "% matplotlib inline \n",
    "plt.plot(n_estimators, train_results, label=”Train AUC”)\n",
    "plt.plot(n_estimators, test_results, label=”Test AUC”)\n",
    "\n",
    "plt.ylabel(‘AUC score’)\n",
    "plt.xlabel(‘n_estimators’)\n",
    "plt.show()\n",
    "\n"
   ]
  },
  {
   "cell_type": "code",
   "execution_count": 482,
   "metadata": {},
   "outputs": [
    {
     "data": {
      "image/png": "[encoded data removed]",
      "text/plain": [
       "<matplotlib.figure.Figure at 0x1bf2ad56a58>"
      ]
     },
     "metadata": {},
     "output_type": "display_data"
    }
   ],
   "source": [
    "from matplotlib.pyplot import *\n",
    "p1, = plot([1,2,3],[12,13,14], label=\"test1\")\n",
    "#p2, = plot([3,2,1], label=\"test2\")"
   ]
  },
  {
   "cell_type": "code",
   "execution_count": 483,
   "metadata": {},
   "outputs": [
    {
     "data": {
      "text/plain": [
       "[1.0, 1.0, 1.0, 1.0, 1.0, 1.0, 1.0, 1.0, 1.0, 1.0]"
      ]
     },
     "execution_count": 483,
     "metadata": {},
     "output_type": "execute_result"
    }
   ],
   "source": [
    "n_estimators\n",
    "train_results"
   ]
  },
  {
   "cell_type": "code",
   "execution_count": 487,
   "metadata": {},
   "outputs": [
    {
     "data": {
      "image/png": "[encoded data removed]",
      "text/plain": [
       "<matplotlib.figure.Figure at 0x1bf2adadf60>"
      ]
     },
     "metadata": {},
     "output_type": "display_data"
    }
   ],
   "source": [
    "from matplotlib.legend_handler import HandlerLine2D\n",
    "line1, = plot(n_estimators, train_results)\n",
    "line2, = plot(n_estimators, test_results)"
   ]
  },
  {
   "cell_type": "code",
   "execution_count": 489,
   "metadata": {
    "scrolled": true
   },
   "outputs": [
    {
     "data": {
      "image/png": "[encoded data removed]",
      "text/plain": [
       "<matplotlib.figure.Figure at 0x1bf27f1b550>"
      ]
     },
     "metadata": {},
     "output_type": "display_data"
    }
   ],
   "source": [
    "from matplotlib.legend_handler import HandlerLine2D\n",
    "line1, = plt.plot(n_estimators, train_results)\n",
    "line2, = plt.plot(n_estimators, test_results)\n",
    "plt.legend(handler_map={line1: HandlerLine2D(numpoints=2)})\n",
    "\n",
    "\n",
    "plt.show()"
   ]
  },
  {
   "cell_type": "code",
   "execution_count": 494,
   "metadata": {
    "scrolled": true
   },
   "outputs": [
    {
     "data": {
      "image/png": "[encoded data removed]",
      "text/plain": [
       "<matplotlib.figure.Figure at 0x1bf2ad75400>"
      ]
     },
     "metadata": {},
     "output_type": "display_data"
    }
   ],
   "source": [
    "max_depths = np.linspace(1, 32, 32, endpoint=True)\n",
    "train_results = []\n",
    "test_results = []\n",
    "for max_depth in max_depths:\n",
    "    rf = RandomForestClassifier(max_depth=max_depth, n_jobs=-1)\n",
    "    rf.fit(train_features, train_labels)\n",
    "    train_pred = rf.predict(train_features)\n",
    "    false_positive_rate, true_positive_rate, thresholds = roc_curve(train_labels, train_pred)\n",
    "    roc_auc = auc(false_positive_rate, true_positive_rate)\n",
    "    train_results.append(roc_auc)\n",
    "    y_pred = rf.predict(test_features)\n",
    "    false_positive_rate, true_positive_rate, thresholds = roc_curve(test_lables, y_pred)\n",
    "    roc_auc = auc(false_positive_rate, true_positive_rate)\n",
    "    test_results.append(roc_auc)\n",
    "from matplotlib.legend_handler import HandlerLine2D\n",
    "line1, = plot(max_depths, train_results)\n",
    "line2, = plot(max_depths, test_results)\n",
    "plt.legend(handler_map={line1: HandlerLine2D(numpoints=2)})\n",
    "\n",
    "plt.show()"
   ]
  },
  {
   "cell_type": "code",
   "execution_count": 496,
   "metadata": {
    "scrolled": true
   },
   "outputs": [
    {
     "data": {
      "image/png": "[encoded data removed]",
      "text/plain": [
       "<matplotlib.figure.Figure at 0x1bf2620b748>"
      ]
     },
     "metadata": {},
     "output_type": "display_data"
    }
   ],
   "source": [
    "min_samples_leafs = np.linspace(0.1, 0.5, 5, endpoint=True)\n",
    "train_results = []\n",
    "test_results = []\n",
    "for min_samples_leaf in min_samples_leafs:\n",
    "   rf = RandomForestClassifier(min_samples_leaf=min_samples_leaf)\n",
    "   rf.fit(train_features, train_labels)\n",
    "   train_pred = rf.predict(train_features)\n",
    "   false_positive_rate, true_positive_rate, thresholds = roc_curve(train_labels, train_pred)\n",
    "   roc_auc = auc(false_positive_rate, true_positive_rate)\n",
    "   train_results.append(roc_auc)\n",
    "   y_pred = rf.predict(test_features)\n",
    "   false_positive_rate, true_positive_rate, thresholds = roc_curve(test_lables, y_pred)\n",
    "   roc_auc = auc(false_positive_rate, true_positive_rate)\n",
    "   test_results.append(roc_auc)\n",
    "from matplotlib.legend_handler import HandlerLine2D\n",
    "line1, = plt.plot(min_samples_leafs, train_results)\n",
    "line2, = plt.plot(min_samples_leafs, test_results)\n",
    "plt.legend(handler_map={line1: HandlerLine2D(numpoints=2)})\n",
    "#plt.ylabel(‘AUC score’)\n",
    "#plt.xlabel(‘min samples leaf’)\n",
    "plt.show()"
   ]
  },
  {
   "cell_type": "code",
   "execution_count": 500,
   "metadata": {},
   "outputs": [
    {
     "data": {
      "image/png": "[encoded data removed]",
      "text/plain": [
       "<matplotlib.figure.Figure at 0x1bf27563be0>"
      ]
     },
     "metadata": {},
     "output_type": "display_data"
    }
   ],
   "source": [
    "max_features = list(range(1,train_features.shape[1]))\n",
    "train_results = []\n",
    "test_results = []\n",
    "for max_feature in max_features:\n",
    "    rf = RandomForestClassifier(max_features=max_feature)\n",
    "    rf.fit(train_features, train_labels)\n",
    "    train_pred = rf.predict(train_features)\n",
    "    false_positive_rate, true_positive_rate, thresholds = roc_curve(train_labels, train_pred)\n",
    "    roc_auc = auc(false_positive_rate, true_positive_rate)\n",
    "    train_results.append(roc_auc)\n",
    "    y_pred = rf.predict(test_features)\n",
    "    false_positive_rate, true_positive_rate, thresholds = roc_curve(test_lables, y_pred)\n",
    "    roc_auc = auc(false_positive_rate, true_positive_rate)\n",
    "    test_results.append(roc_auc)\n",
    "from matplotlib.legend_handler import HandlerLine2D\n",
    "line1, = plt.plot(max_features, train_results)\n",
    "line2, = plt.plot(max_features, test_results)\n",
    "plt.legend(handler_map={line1: HandlerLine2D(numpoints=2)})\n",
    "\n",
    "plt.show()"
   ]
  },
  {
   "cell_type": "markdown",
   "metadata": {},
   "source": [
    "## Establish Baseline"
   ]
  },
  {
   "cell_type": "code",
   "execution_count": 127,
   "metadata": {},
   "outputs": [
    {
     "ename": "ValueError",
     "evalue": "'average' is not in list",
     "output_type": "error",
     "traceback": [
      "\u001b[1;31m---------------------------------------------------------------------------\u001b[0m",
      "\u001b[1;31mValueError\u001b[0m                                Traceback (most recent call last)",
      "\u001b[1;32m<ipython-input-127-575ab07cc724>\u001b[0m in \u001b[0;36m<module>\u001b[1;34m()\u001b[0m\n\u001b[0;32m      1\u001b[0m \u001b[1;31m# The baseline predictions are the historical averages\u001b[0m\u001b[1;33m\u001b[0m\u001b[1;33m\u001b[0m\u001b[0m\n\u001b[1;32m----> 2\u001b[1;33m \u001b[0mbaseline_preds\u001b[0m \u001b[1;33m=\u001b[0m \u001b[0mtest_features\u001b[0m\u001b[1;33m[\u001b[0m\u001b[1;33m:\u001b[0m\u001b[1;33m,\u001b[0m \u001b[0mfeature_list\u001b[0m\u001b[1;33m.\u001b[0m\u001b[0mindex\u001b[0m\u001b[1;33m(\u001b[0m\u001b[1;34m'average'\u001b[0m\u001b[1;33m)\u001b[0m\u001b[1;33m]\u001b[0m\u001b[1;33m\u001b[0m\u001b[0m\n\u001b[0m\u001b[0;32m      3\u001b[0m \u001b[1;33m\u001b[0m\u001b[0m\n\u001b[0;32m      4\u001b[0m \u001b[1;31m# Baseline errors, and display average baseline error\u001b[0m\u001b[1;33m\u001b[0m\u001b[1;33m\u001b[0m\u001b[0m\n\u001b[0;32m      5\u001b[0m \u001b[0mbaseline_errors\u001b[0m \u001b[1;33m=\u001b[0m \u001b[0mabs\u001b[0m\u001b[1;33m(\u001b[0m\u001b[0mbaseline_preds\u001b[0m \u001b[1;33m-\u001b[0m \u001b[0mtest_labels\u001b[0m\u001b[1;33m)\u001b[0m\u001b[1;33m\u001b[0m\u001b[0m\n",
      "\u001b[1;31mValueError\u001b[0m: 'average' is not in list"
     ]
    }
   ],
   "source": [
    "# The baseline predictions are the historical averages\n",
    "baseline_preds = test_features[:, feature_list.index('average')]\n",
    "\n",
    "# Baseline errors, and display average baseline error\n",
    "baseline_errors = abs(baseline_preds - test_labels)\n",
    "print('Average baseline error: ', round(np.mean(baseline_errors), 2), 'degrees.')"
   ]
  },
  {
   "cell_type": "markdown",
   "metadata": {},
   "source": [
    "## Training the Forest"
   ]
  },
  {
   "cell_type": "code",
   "execution_count": 361,
   "metadata": {
    "collapsed": true,
    "hideCode": false,
    "hidePrompt": false
   },
   "outputs": [],
   "source": [
    "# Import the model we are using\n",
    "from sklearn.ensemble import RandomForestRegressor,RandomForestClassifier\n",
    "\n",
    "# Instantiate model \n",
    "rf = RandomForestClassifier(n_estimators= 1000, random_state=42)\n",
    "\n",
    "# Train the model on training data\n",
    "rf.fit(train_features, train_labels);"
   ]
  },
  {
   "cell_type": "code",
   "execution_count": 362,
   "metadata": {
    "collapsed": true
   },
   "outputs": [],
   "source": [
    "?RandomForestClassifier"
   ]
  },
  {
   "cell_type": "markdown",
   "metadata": {},
   "source": [
    "We can create models with different hyperparameters to try and boost performance. The only way to find the best ones\n",
    "are to try a few and evaluate them! "
   ]
  },
  {
   "cell_type": "code",
   "execution_count": 363,
   "metadata": {
    "collapsed": true
   },
   "outputs": [],
   "source": [
    "rf_new = RandomForestClassifier(n_estimators = 100, criterion = 'gini', max_depth = None, \n",
    "                               min_samples_split = 2, min_samples_leaf = 1)"
   ]
  },
  {
   "cell_type": "code",
   "execution_count": 374,
   "metadata": {},
   "outputs": [
    {
     "data": {
      "text/plain": [
       "(368,)"
      ]
     },
     "execution_count": 374,
     "metadata": {},
     "output_type": "execute_result"
    }
   ],
   "source": [
    "test_lables.shape\n",
    "predictions.shape"
   ]
  },
  {
   "cell_type": "markdown",
   "metadata": {},
   "source": [
    "## Make Predictions on Test Data"
   ]
  },
  {
   "cell_type": "code",
   "execution_count": 381,
   "metadata": {},
   "outputs": [
    {
     "data": {
      "text/plain": [
       "48"
      ]
     },
     "execution_count": 381,
     "metadata": {},
     "output_type": "execute_result"
    }
   ],
   "source": [
    "# Use the forest's predict method on the test data\n",
    "predictions = rf.predict(test_features)\n",
    "\n",
    "sum((predictions==1))\n",
    "sum((test_labels==1))\n"
   ]
  },
  {
   "cell_type": "code",
   "execution_count": 318,
   "metadata": {},
   "outputs": [
    {
     "name": "stdout",
     "output_type": "stream",
     "text": [
      "Accuracy: 56.52 %.\n"
     ]
    }
   ],
   "source": [
    "# Calculate mean absolute percentage error (MAPE)\n",
    "mape = 100 * (errors / test_labels)\n",
    "\n",
    "# Calculate and display accuracy\n",
    "accuracy = 100 - np.mean(mape)\n",
    "print('Accuracy:', round(accuracy, 2), '%.')"
   ]
  },
  {
   "cell_type": "markdown",
   "metadata": {},
   "source": [
    "## Visualizing a Single Decision Tree"
   ]
  },
  {
   "cell_type": "code",
   "execution_count": 134,
   "metadata": {},
   "outputs": [
    {
     "ename": "SyntaxError",
     "evalue": "invalid syntax (<ipython-input-134-0f1c990c1588>, line 9)",
     "output_type": "error",
     "traceback": [
      "\u001b[1;36m  File \u001b[1;32m\"<ipython-input-134-0f1c990c1588>\"\u001b[1;36m, line \u001b[1;32m9\u001b[0m\n\u001b[1;33m    export_graphviz(tree, out_file = 'tree.dot' rounded = True, precision = 1)\u001b[0m\n\u001b[1;37m                                                      ^\u001b[0m\n\u001b[1;31mSyntaxError\u001b[0m\u001b[1;31m:\u001b[0m invalid syntax\n"
     ]
    }
   ],
   "source": [
    "# Import tools needed for visualization\n",
    "from sklearn.tree import export_graphviz\n",
    "import pydot\n",
    "\n",
    "# Pull out one tree from the forest\n",
    "tree = rf.estimators_[5]\n",
    "\n",
    "# Export the image to a dot file\n",
    "export_graphviz(tree, out_file = 'tree.dot' rounded = True, precision = 1)\n",
    "\n",
    "# Use dot file to create a graph\n",
    "(graph, ) = pydot.graph_from_dot_file('tree.dot')\n",
    "\n",
    "# Write graph to a png file\n",
    "graph.write_png('tree.png'); "
   ]
  },
  {
   "cell_type": "markdown",
   "metadata": {},
   "source": [
    "![Decision Tree](tree.png)"
   ]
  },
  {
   "cell_type": "code",
   "execution_count": 135,
   "metadata": {},
   "outputs": [
    {
     "name": "stdout",
     "output_type": "stream",
     "text": [
      "The depth of this tree is: 14\n"
     ]
    }
   ],
   "source": [
    "print('The depth of this tree is:', tree.tree_.max_depth)"
   ]
  },
  {
   "cell_type": "markdown",
   "metadata": {},
   "source": [
    "Smaller tree for visualization."
   ]
  },
  {
   "cell_type": "code",
   "execution_count": 383,
   "metadata": {
    "collapsed": true
   },
   "outputs": [],
   "source": [
    "# Limit depth of tree to 2 levels\n",
    "rf_small = RandomForestClassifier(n_estimators=10, max_depth = 3, random_state=42)\n",
    "rf_small.fit(train_features, train_labels)\n",
    "\n",
    "# Extract the small tree\n",
    "tree_small = rf_small.estimators_[5]\n",
    "\n",
    "# Save the tree as a png image\n",
    "#export_graphviz(tree_small, out_file = 'small_tree.dot', feature_names = feature_list, rounded = True, precision = 1)\n",
    "\n",
    "#(graph, ) = pydot.graph_from_dot_file('small_tree.dot')\n",
    "\n",
    "#graph.write_png('small_tree.png')"
   ]
  },
  {
   "cell_type": "code",
   "execution_count": 384,
   "metadata": {
    "scrolled": true
   },
   "outputs": [
    {
     "name": "stdout",
     "output_type": "stream",
     "text": [
      "Parameters currently in use:\n",
      "\n",
      "{'bootstrap': True,\n",
      " 'class_weight': None,\n",
      " 'criterion': 'gini',\n",
      " 'max_depth': 3,\n",
      " 'max_features': 'auto',\n",
      " 'max_leaf_nodes': None,\n",
      " 'min_impurity_decrease': 0.0,\n",
      " 'min_impurity_split': None,\n",
      " 'min_samples_leaf': 1,\n",
      " 'min_samples_split': 2,\n",
      " 'min_weight_fraction_leaf': 0.0,\n",
      " 'n_estimators': 10,\n",
      " 'n_jobs': 1,\n",
      " 'oob_score': False,\n",
      " 'random_state': 42,\n",
      " 'verbose': 0,\n",
      " 'warm_start': False}\n"
     ]
    }
   ],
   "source": [
    "from pprint import pprint\n",
    "\n",
    "# Look at parameters used by our current forest\n",
    "print('Parameters currently in use:\\n')\n",
    "pprint(rf_small.get_params())"
   ]
  },
  {
   "cell_type": "code",
   "execution_count": 385,
   "metadata": {
    "scrolled": true
   },
   "outputs": [
    {
     "name": "stdout",
     "output_type": "stream",
     "text": [
      "{'bootstrap': [True, False],\n",
      " 'max_depth': [10, 20, 30, 40, 50, 60, 70, 80, 90, 100, 110, None],\n",
      " 'max_features': ['auto', 'sqrt'],\n",
      " 'min_samples_leaf': [1, 2, 4],\n",
      " 'min_samples_split': [2, 5, 10],\n",
      " 'n_estimators': [200, 400, 600, 800, 1000, 1200, 1400, 1600, 1800, 2000]}\n"
     ]
    }
   ],
   "source": [
    "from sklearn.model_selection import RandomizedSearchCV\n",
    "\n",
    "# Number of trees in random forest\n",
    "n_estimators = [int(x) for x in np.linspace(start = 200, stop = 2000, num = 10)]\n",
    "# Number of features to consider at every split\n",
    "max_features = ['auto', 'sqrt']\n",
    "# Maximum number of levels in tree\n",
    "max_depth = [int(x) for x in np.linspace(10, 110, num = 11)]\n",
    "max_depth.append(None)\n",
    "# Minimum number of samples required to split a node\n",
    "min_samples_split = [2, 5, 10]\n",
    "# Minimum number of samples required at each leaf node\n",
    "min_samples_leaf = [1, 2, 4]\n",
    "# Method of selecting samples for training each tree\n",
    "bootstrap = [True, False]\n",
    "\n",
    "# Create the random grid\n",
    "random_grid = {'n_estimators': n_estimators,\n",
    "               'max_features': max_features,\n",
    "               'max_depth': max_depth,\n",
    "               'min_samples_split': min_samples_split,\n",
    "               'min_samples_leaf': min_samples_leaf,\n",
    "               'bootstrap': bootstrap}\n",
    "\n",
    "pprint(random_grid)"
   ]
  },
  {
   "cell_type": "code",
   "execution_count": 388,
   "metadata": {
    "collapsed": true
   },
   "outputs": [],
   "source": [
    "?RandomizedSearchCV"
   ]
  },
  {
   "cell_type": "code",
   "execution_count": 389,
   "metadata": {},
   "outputs": [
    {
     "name": "stdout",
     "output_type": "stream",
     "text": [
      "Fitting 3 folds for each of 100 candidates, totalling 300 fits\n"
     ]
    },
    {
     "name": "stderr",
     "output_type": "stream",
     "text": [
      "[Parallel(n_jobs=-1)]: Done  33 tasks      | elapsed:   45.2s\n",
      "[Parallel(n_jobs=-1)]: Done 154 tasks      | elapsed:  2.7min\n",
      "[Parallel(n_jobs=-1)]: Done 300 out of 300 | elapsed:  5.2min finished\n"
     ]
    }
   ],
   "source": [
    "# Use the random grid to search for best hyperparameters\n",
    "# First create the base model to tune\n",
    "rf = RandomForestClassifier(random_state = 42)\n",
    "# Random search of parameters, using 3 fold cross validation, \n",
    "# search across 100 different combinations, and use all available cores\n",
    "rf_random = RandomizedSearchCV(estimator=rf, param_distributions=random_grid,\n",
    "                              n_iter = 100, \n",
    "                              cv = 3, verbose=2, random_state=42, n_jobs=-1,\n",
    "                              return_train_score=True)\n",
    "\n",
    "# Fit the random search model\n",
    "rf_random.fit(train_features, train_labels);"
   ]
  },
  {
   "cell_type": "code",
   "execution_count": 390,
   "metadata": {},
   "outputs": [
    {
     "data": {
      "text/plain": [
       "{'bootstrap': True,\n",
       " 'max_depth': 30,\n",
       " 'max_features': 'sqrt',\n",
       " 'min_samples_leaf': 1,\n",
       " 'min_samples_split': 5,\n",
       " 'n_estimators': 400}"
      ]
     },
     "execution_count": 390,
     "metadata": {},
     "output_type": "execute_result"
    }
   ],
   "source": [
    "rf_random.best_params_"
   ]
  },
  {
   "cell_type": "code",
   "execution_count": 391,
   "metadata": {
    "scrolled": true
   },
   "outputs": [
    {
     "data": {
      "text/plain": [
       "{'bootstrap': True,\n",
       " 'max_depth': 30,\n",
       " 'max_features': 'sqrt',\n",
       " 'min_samples_leaf': 1,\n",
       " 'min_samples_split': 5,\n",
       " 'n_estimators': 400}"
      ]
     },
     "execution_count": 391,
     "metadata": {},
     "output_type": "execute_result"
    }
   ],
   "source": [
    "rf_random.best_params_"
   ]
  },
  {
   "cell_type": "code",
   "execution_count": 392,
   "metadata": {},
   "outputs": [
    {
     "ename": "NameError",
     "evalue": "name 'model' is not defined",
     "output_type": "error",
     "traceback": [
      "\u001b[1;31m---------------------------------------------------------------------------\u001b[0m",
      "\u001b[1;31mNameError\u001b[0m                                 Traceback (most recent call last)",
      "\u001b[1;32m<ipython-input-392-2110c72d4c76>\u001b[0m in \u001b[0;36m<module>\u001b[1;34m()\u001b[0m\n\u001b[1;32m----> 1\u001b[1;33m \u001b[0mpredictions1\u001b[0m \u001b[1;33m=\u001b[0m \u001b[0mmodel\u001b[0m\u001b[1;33m.\u001b[0m\u001b[0mpredict\u001b[0m\u001b[1;33m(\u001b[0m\u001b[0mtest_features\u001b[0m\u001b[1;33m)\u001b[0m\u001b[1;33m\u001b[0m\u001b[0m\n\u001b[0m",
      "\u001b[1;31mNameError\u001b[0m: name 'model' is not defined"
     ]
    }
   ],
   "source": [
    "predictions1 = model.predict(test_features)"
   ]
  },
  {
   "cell_type": "code",
   "execution_count": 325,
   "metadata": {
    "collapsed": true
   },
   "outputs": [],
   "source": [
    "def evaluate(model, test_features, test_labels):\n",
    "    predictions = model.predict(test_features)\n",
    "    errors = abs(predictions - test_labels)\n",
    "    mape = 100 * np.mean(errors / test_labels)\n",
    "    accuracy = 100 - mape\n",
    "    print('Model Performance')\n",
    "    print('Average Error: {:0.4f} degrees.'.format(np.mean(errors)))\n",
    "    print('Accuracy = {:0.2f}%.'.format(accuracy))\n",
    "    \n",
    "    return accuracy"
   ]
  },
  {
   "cell_type": "code",
   "execution_count": 401,
   "metadata": {
    "collapsed": true
   },
   "outputs": [],
   "source": [
    "base_model = RandomForestClassifier(n_estimators = 10, random_state = 42)\n",
    "base_model.fit(train_features, train_labels)\n",
    "predictions = base_model.predict(test_features)\n",
    "#base_accuracy = evaluate(base_model, test_features, test_labels)"
   ]
  },
  {
   "cell_type": "code",
   "execution_count": 402,
   "metadata": {},
   "outputs": [
    {
     "data": {
      "text/plain": [
       "array([1, 1, 1, 1, 1, 1, 1, 1, 1, 1, 1, 1, 1, 1, 1, 1, 1, 1, 1, 1, 1, 1,\n",
       "       1, 1, 1, 1, 1, 1, 1, 1, 1, 1, 1, 1, 1, 1, 1, 1, 1, 1, 1, 1, 1, 1,\n",
       "       1, 1, 1, 1, 1, 1, 1, 1, 1, 1, 1, 1, 1, 1, 1, 1, 1, 1, 1, 1, 1, 1,\n",
       "       1, 1, 1, 1, 1, 1, 1, 1, 1, 1, 1, 1, 1, 1, 1, 1, 1, 1, 1, 1, 1, 1,\n",
       "       1, 1, 1, 1, 1, 1, 1, 1, 1, 1, 1, 1, 1, 1, 1, 1, 1, 1, 1, 1, 1, 1,\n",
       "       1, 1, 1, 1, 1, 1, 1, 1, 1, 1, 1, 1, 1, 1, 1, 1, 1, 1, 1, 1, 1, 1,\n",
       "       1, 1, 1, 1, 1, 1, 1, 1, 1, 1, 1, 1, 1, 1, 1, 1, 1, 1, 1, 1, 1, 1,\n",
       "       1, 1, 1, 1, 1, 1, 1, 1, 1, 1, 1, 1, 1, 1, 1, 1, 1, 1, 1, 1, 1, 1,\n",
       "       1, 1, 1, 1, 1, 1, 1, 1, 1, 1, 1, 1, 1, 1, 1, 1, 1, 1, 1, 1, 1, 1,\n",
       "       1, 1, 1, 1, 1, 1, 1, 1, 1, 1, 1, 1, 1, 1, 1, 1, 1, 1, 1, 1, 1, 1,\n",
       "       1, 1, 1, 1, 1, 1, 1, 1, 1, 1, 1, 1, 1, 1, 1, 1, 1, 1, 1, 1, 1, 1,\n",
       "       1, 1, 1, 1, 1, 1, 1, 1, 1, 1, 1, 1, 1, 1, 1, 1, 1, 1, 1, 1, 1, 1,\n",
       "       1, 1, 1, 1, 1, 1, 1, 1, 1, 1, 1, 1, 1, 1, 1, 1, 1, 1, 1, 1, 1, 1,\n",
       "       1, 1, 1, 1, 1, 1, 1, 1, 1, 1, 1, 1, 1, 1, 1, 1, 1, 1, 1, 1, 1, 1,\n",
       "       1, 1, 1, 1, 1, 1, 1, 1, 1, 1, 1, 1, 1, 1, 1, 1, 1, 1, 1, 1, 1, 1,\n",
       "       1, 1, 1, 1, 1, 1, 1, 1, 1, 1, 1, 1, 1, 1, 1, 1, 1, 1, 1, 1, 1, 1,\n",
       "       1, 1, 1, 1, 1, 1, 1, 1, 1, 1, 1, 1, 1, 1, 1, 1])"
      ]
     },
     "execution_count": 402,
     "metadata": {},
     "output_type": "execute_result"
    }
   ],
   "source": [
    "predictions"
   ]
  },
  {
   "cell_type": "code",
   "execution_count": 398,
   "metadata": {},
   "outputs": [
    {
     "data": {
      "text/plain": [
       "368"
      ]
     },
     "execution_count": 398,
     "metadata": {},
     "output_type": "execute_result"
    }
   ],
   "source": [
    "sum(predictions==1)\n",
    "#sum(test_lables==1)"
   ]
  },
  {
   "cell_type": "code",
   "execution_count": 400,
   "metadata": {
    "collapsed": true
   },
   "outputs": [],
   "source": [
    "\n",
    "best_random  = rf_random.best_estimator_\n",
    "#random_accuracy = evaluate(best_random, test_features, test_labels)"
   ]
  },
  {
   "cell_type": "code",
   "execution_count": 328,
   "metadata": {
    "scrolled": false
   },
   "outputs": [
    {
     "name": "stdout",
     "output_type": "stream",
     "text": [
      "Improvement of 0.00%.\n"
     ]
    }
   ],
   "source": [
    "print('Improvement of {:0.2f}%.'.format( 100 * (random_accuracy - base_accuracy) / base_accuracy))"
   ]
  },
  {
   "cell_type": "code",
   "execution_count": 403,
   "metadata": {
    "collapsed": true
   },
   "outputs": [],
   "source": [
    "\n",
    "\n",
    "from sklearn.model_selection import GridSearchCV\n",
    "\n",
    "# Create the parameter grid based on the results of random search \n",
    "param_grid = {\n",
    "    'bootstrap': [True],\n",
    "    'max_depth': [80, 90, 100, 110],\n",
    "    'max_features': [2, 3],\n",
    "    'min_samples_leaf': [3, 4, 5],\n",
    "    'min_samples_split': [8, 10, 12],\n",
    "    'n_estimators': [100, 200, 300, 1000]\n",
    "}\n",
    "\n",
    "# Create a base model\n",
    "rf = RandomForestClassifier(random_state = 42)\n",
    "\n",
    "# Instantiate the grid search model\n",
    "grid_search = GridSearchCV(estimator = rf, param_grid = param_grid, \n",
    "                          cv = 3, n_jobs = -1, verbose = 2, return_train_score=True)"
   ]
  },
  {
   "cell_type": "code",
   "execution_count": 404,
   "metadata": {
    "scrolled": false
   },
   "outputs": [
    {
     "name": "stdout",
     "output_type": "stream",
     "text": [
      "Fitting 3 folds for each of 288 candidates, totalling 864 fits\n"
     ]
    },
    {
     "name": "stderr",
     "output_type": "stream",
     "text": [
      "[Parallel(n_jobs=-1)]: Done  33 tasks      | elapsed:    9.1s\n",
      "[Parallel(n_jobs=-1)]: Done 154 tasks      | elapsed:   36.6s\n",
      "[Parallel(n_jobs=-1)]: Done 357 tasks      | elapsed:  1.3min\n",
      "[Parallel(n_jobs=-1)]: Done 640 tasks      | elapsed:  2.4min\n",
      "[Parallel(n_jobs=-1)]: Done 864 out of 864 | elapsed:  3.3min finished\n"
     ]
    }
   ],
   "source": [
    "# Fit the grid search to the data\n",
    "grid_search.fit(train_features, train_labels);"
   ]
  },
  {
   "cell_type": "code",
   "execution_count": 189,
   "metadata": {},
   "outputs": [
    {
     "data": {
      "text/plain": [
       "{'bootstrap': True,\n",
       " 'max_depth': 80,\n",
       " 'max_features': 3,\n",
       " 'min_samples_leaf': 3,\n",
       " 'min_samples_split': 10,\n",
       " 'n_estimators': 200}"
      ]
     },
     "execution_count": 189,
     "metadata": {},
     "output_type": "execute_result"
    }
   ],
   "source": [
    "\n",
    "grid_search.best_params_"
   ]
  },
  {
   "cell_type": "code",
   "execution_count": 191,
   "metadata": {
    "scrolled": true
   },
   "outputs": [
    {
     "data": {
      "text/plain": [
       "{'bootstrap': True,\n",
       " 'max_depth': 110,\n",
       " 'max_features': 4,\n",
       " 'min_samples_leaf': 5,\n",
       " 'min_samples_split': 10,\n",
       " 'n_estimators': 125}"
      ]
     },
     "execution_count": 191,
     "metadata": {},
     "output_type": "execute_result"
    }
   ],
   "source": [
    "\n",
    "grid_search_final.best_params_"
   ]
  },
  {
   "cell_type": "code",
   "execution_count": 405,
   "metadata": {
    "scrolled": false
   },
   "outputs": [
    {
     "data": {
      "text/plain": [
       "array([1, 1, 1, 1, 1, 1, 1, 1, 1, 1, 1, 1, 1, 1, 1, 1, 1, 1, 1, 1, 1, 1,\n",
       "       1, 1, 1, 1, 1, 1, 1, 1, 1, 1, 1, 1, 1, 1, 1, 1, 1, 1, 1, 1, 1, 1,\n",
       "       1, 1, 1, 1, 1, 1, 1, 1, 1, 1, 1, 1, 1, 1, 1, 1, 1, 1, 1, 1, 1, 1,\n",
       "       1, 1, 1, 1, 1, 1, 1, 1, 1, 1, 1, 1, 1, 1, 1, 1, 1, 1, 1, 1, 1, 1,\n",
       "       1, 1, 1, 1, 1, 1, 1, 1, 1, 1, 1, 1, 1, 1, 1, 1, 1, 1, 1, 1, 1, 1,\n",
       "       1, 1, 1, 1, 1, 1, 1, 1, 1, 1, 1, 1, 1, 1, 1, 1, 1, 1, 1, 1, 1, 1,\n",
       "       1, 1, 1, 1, 1, 1, 1, 1, 1, 1, 1, 1, 1, 1, 1, 1, 1, 1, 1, 1, 1, 1,\n",
       "       1, 1, 1, 1, 1, 1, 1, 1, 1, 1, 1, 1, 1, 1, 1, 1, 1, 1, 1, 1, 1, 1,\n",
       "       1, 1, 1, 1, 1, 1, 1, 1, 1, 1, 1, 1, 1, 1, 1, 1, 1, 1, 1, 1, 1, 1,\n",
       "       1, 1, 1, 1, 1, 1, 1, 1, 1, 1, 1, 1, 1, 1, 1, 1, 1, 1, 1, 1, 1, 1,\n",
       "       1, 1, 1, 1, 1, 1, 1, 1, 1, 1, 1, 1, 1, 1, 1, 1, 1, 1, 1, 1, 1, 1,\n",
       "       1, 1, 1, 1, 1, 1, 1, 1, 1, 1, 1, 1, 1, 1, 1, 1, 1, 1, 1, 1, 1, 1,\n",
       "       1, 1, 1, 1, 1, 1, 1, 1, 1, 1, 1, 1, 1, 1, 1, 1, 1, 1, 1, 1, 1, 1,\n",
       "       1, 1, 1, 1, 1, 1, 1, 1, 1, 1, 1, 1, 1, 1, 1, 1, 1, 1, 1, 1, 1, 1,\n",
       "       1, 1, 1, 1, 1, 1, 1, 1, 1, 1, 1, 1, 1, 1, 1, 1, 1, 1, 1, 1, 1, 1,\n",
       "       1, 1, 1, 1, 1, 1, 1, 1, 1, 1, 1, 1, 1, 1, 1, 1, 1, 1, 1, 1, 1, 1,\n",
       "       1, 1, 1, 1, 1, 1, 1, 1, 1, 1, 1, 1, 1, 1, 1, 1])"
      ]
     },
     "execution_count": 405,
     "metadata": {},
     "output_type": "execute_result"
    }
   ],
   "source": [
    "best_grid = grid_search.best_estimator_\n",
    "#grid_accuracy = evaluate(best_grid, test_features, test_labels)\n",
    "best_grid.predict(test_features)"
   ]
  },
  {
   "cell_type": "code",
   "execution_count": 407,
   "metadata": {},
   "outputs": [
    {
     "data": {
      "text/plain": [
       "array([[1., 0., 0., ..., 4., 1., 3.],\n",
       "       [1., 0., 0., ..., 2., 1., 3.],\n",
       "       [1., 0., 0., ..., 0., 0., 0.],\n",
       "       ...,\n",
       "       [1., 0., 0., ..., 8., 4., 7.],\n",
       "       [1., 0., 0., ..., 0., 1., 2.],\n",
       "       [0., 0., 1., ..., 7., 1., 7.]], dtype=float32)"
      ]
     },
     "execution_count": 407,
     "metadata": {},
     "output_type": "execute_result"
    }
   ],
   "source": [
    "test_features"
   ]
  },
  {
   "cell_type": "code",
   "execution_count": 186,
   "metadata": {},
   "outputs": [
    {
     "name": "stdout",
     "output_type": "stream",
     "text": [
      "Improvement of -1.05%.\n"
     ]
    }
   ],
   "source": [
    "print('Improvement of {:0.2f}%.'.format( 100 * (grid_accuracy - base_accuracy) / base_accuracy))"
   ]
  },
  {
   "cell_type": "code",
   "execution_count": 187,
   "metadata": {},
   "outputs": [
    {
     "name": "stdout",
     "output_type": "stream",
     "text": [
      "Fitting 3 folds for each of 54 candidates, totalling 162 fits\n"
     ]
    },
    {
     "name": "stderr",
     "output_type": "stream",
     "text": [
      "[Parallel(n_jobs=-1)]: Done  33 tasks      | elapsed:    4.4s\n",
      "[Parallel(n_jobs=-1)]: Done 154 tasks      | elapsed:   11.3s\n",
      "[Parallel(n_jobs=-1)]: Done 162 out of 162 | elapsed:   11.9s finished\n"
     ]
    }
   ],
   "source": [
    "param_grid = {\n",
    "    'bootstrap': [True],\n",
    "    'max_depth': [110, 120, None],\n",
    "    'max_features': [3, 4],\n",
    "    'min_samples_leaf': [5, 6, 7],\n",
    "    'min_samples_split': [10],\n",
    "    'n_estimators': [75, 100, 125]\n",
    "}\n",
    "\n",
    "# Create a base model\n",
    "rf = RandomForestRegressor(random_state = 42)\n",
    "\n",
    "# Instantiate the grid search model\n",
    "grid_search_final = GridSearchCV(estimator = rf, param_grid = param_grid, \n",
    "                                 cv = 3, n_jobs = -1, verbose = 2, return_train_score=True)\n",
    "\n",
    "grid_search_final.fit(train_features, train_labels);"
   ]
  },
  {
   "cell_type": "code",
   "execution_count": 192,
   "metadata": {},
   "outputs": [
    {
     "data": {
      "text/plain": [
       "{'bootstrap': True,\n",
       " 'max_depth': 110,\n",
       " 'max_features': 4,\n",
       " 'min_samples_leaf': 5,\n",
       " 'min_samples_split': 10,\n",
       " 'n_estimators': 125}"
      ]
     },
     "execution_count": 192,
     "metadata": {},
     "output_type": "execute_result"
    }
   ],
   "source": [
    "grid_search_final.best_params_"
   ]
  },
  {
   "cell_type": "code",
   "execution_count": 175,
   "metadata": {},
   "outputs": [
    {
     "name": "stdout",
     "output_type": "stream",
     "text": [
      "Model Performance\n",
      "Average Error: 0.2228 degrees.\n",
      "Accuracy = 83.89%.\n"
     ]
    }
   ],
   "source": [
    "\n",
    "best_grid_final = grid_search_final.best_estimator_\n",
    "grid_final_accuracy = evaluate(best_grid_final, test_features, test_labels)"
   ]
  },
  {
   "cell_type": "code",
   "execution_count": 178,
   "metadata": {
    "scrolled": true
   },
   "outputs": [
    {
     "name": "stdout",
     "output_type": "stream",
     "text": [
      "Improvement of -0.96%.\n"
     ]
    }
   ],
   "source": [
    "print('Improvement of {:0.2f}%.'.format( 100 * (grid_final_accuracy - base_accuracy) / base_accuracy))"
   ]
  },
  {
   "cell_type": "code",
   "execution_count": 193,
   "metadata": {
    "scrolled": true
   },
   "outputs": [
    {
     "name": "stdout",
     "output_type": "stream",
     "text": [
      "Final Model Parameters:\n",
      "\n",
      "{'bootstrap': True,\n",
      " 'criterion': 'mse',\n",
      " 'max_depth': 110,\n",
      " 'max_features': 4,\n",
      " 'max_leaf_nodes': None,\n",
      " 'min_impurity_decrease': 0.0,\n",
      " 'min_impurity_split': None,\n",
      " 'min_samples_leaf': 5,\n",
      " 'min_samples_split': 10,\n",
      " 'min_weight_fraction_leaf': 0.0,\n",
      " 'n_estimators': 125,\n",
      " 'n_jobs': 1,\n",
      " 'oob_score': False,\n",
      " 'random_state': 42,\n",
      " 'verbose': 0,\n",
      " 'warm_start': False}\n",
      "\n",
      "\n",
      "Model Performance\n",
      "Average Error: 0.2228 degrees.\n",
      "Accuracy = 83.89%.\n"
     ]
    }
   ],
   "source": [
    "\n",
    "final_model  = grid_search_final.best_estimator_\n",
    "\n",
    "print('Final Model Parameters:\\n')\n",
    "pprint(final_model.get_params())\n",
    "print('\\n')\n",
    "grid_final_accuracy = evaluate(final_model, test_features, test_labels)"
   ]
  },
  {
   "cell_type": "code",
   "execution_count": 194,
   "metadata": {
    "collapsed": true
   },
   "outputs": [],
   "source": [
    "# Time used for evaluating model run times\n",
    "import time"
   ]
  },
  {
   "cell_type": "code",
   "execution_count": 196,
   "metadata": {
    "collapsed": true
   },
   "outputs": [],
   "source": [
    "\n",
    "# Evaluate run time and prediction accuracy\n",
    "def evaluate_model(model, x_train, y_train, x_test, y_test):\n",
    "    n_trees = model.get_params()['n_estimators']\n",
    "    n_features = x_train.shape[1]\n",
    "    \n",
    "    # Train and predict 10 times to evaluate time and accuracy\n",
    "    predictions = []\n",
    "    run_times = []\n",
    "    for _ in range(10):\n",
    "        start_time = time.time()\n",
    "        model.fit(x_train, y_train)\n",
    "        predictions.append(model.predict(x_test))\n",
    "    \n",
    "        end_time = time.time()\n",
    "        run_times.append(end_time - start_time)\n",
    "    \n",
    "    # Run time and predictions need to be averaged\n",
    "    run_time = np.mean(run_times)\n",
    "    predictions = np.mean(np.array(predictions), axis = 0)\n",
    "    \n",
    "    # Calculate performance metrics\n",
    "    errors = abs(predictions - y_test)\n",
    "    mean_error = np.mean(errors)\n",
    "    mape = 100 * np.mean(errors / y_test)\n",
    "    accuracy = 100 - mape\n",
    "    \n",
    "    # Return results in a dictionary\n",
    "    results = {'time': run_time, 'error': mean_error, 'accuracy': accuracy, 'n_trees': n_trees, 'n_features': n_features}\n",
    "    \n",
    "    return results"
   ]
  },
  {
   "cell_type": "code",
   "execution_count": 197,
   "metadata": {},
   "outputs": [
    {
     "data": {
      "text/plain": [
       "{'accuracy': 84.7768795289855,\n",
       " 'error': 0.20461490683229824,\n",
       " 'model': 'best_random',\n",
       " 'n_features': 79,\n",
       " 'n_trees': 200,\n",
       " 'time': 1.922084665298462}"
      ]
     },
     "execution_count": 197,
     "metadata": {},
     "output_type": "execute_result"
    }
   ],
   "source": [
    "random_results = evaluate_model(best_random, train_features, train_labels, test_features, test_labels)\n",
    "#In [41]:\n",
    "random_results['model'] = 'best_random'\n",
    "#In [42]:\n",
    "random_results"
   ]
  },
  {
   "cell_type": "code",
   "execution_count": 199,
   "metadata": {
    "scrolled": true
   },
   "outputs": [
    {
     "data": {
      "text/plain": [
       "{'accuracy': 83.81570550275575,\n",
       " 'error': 0.22433981491710814,\n",
       " 'model': 'first_grid',\n",
       " 'n_features': 79,\n",
       " 'n_trees': 200,\n",
       " 'time': 0.23090052604675293}"
      ]
     },
     "execution_count": 199,
     "metadata": {},
     "output_type": "execute_result"
    }
   ],
   "source": [
    "\n",
    "first_grid_results  = evaluate_model(best_grid, train_features, train_labels, test_features, test_labels)\n",
    "first_grid_results['model'] = 'first_grid'\n",
    "#In [44]:\n",
    "first_grid_results"
   ]
  },
  {
   "cell_type": "code",
   "execution_count": 200,
   "metadata": {
    "scrolled": true
   },
   "outputs": [
    {
     "data": {
      "text/plain": [
       "{'accuracy': 83.88671844885063,\n",
       " 'error': 0.22275215391318867,\n",
       " 'model': 'second_grid',\n",
       " 'n_features': 79,\n",
       " 'n_trees': 125,\n",
       " 'time': 0.15109364986419677}"
      ]
     },
     "execution_count": 200,
     "metadata": {},
     "output_type": "execute_result"
    }
   ],
   "source": [
    "final_model_results = evaluate_model(best_grid_final, train_features, train_labels, test_features, test_labels)\n",
    "final_model_results['model'] = 'second_grid'\n",
    "#In [46]:\n",
    "final_model_results"
   ]
  },
  {
   "cell_type": "code",
   "execution_count": 287,
   "metadata": {},
   "outputs": [
    {
     "ename": "ValueError",
     "evalue": "Classification metrics can't handle a mix of binary and continuous targets",
     "output_type": "error",
     "traceback": [
      "\u001b[1;31m---------------------------------------------------------------------------\u001b[0m",
      "\u001b[1;31mValueError\u001b[0m                                Traceback (most recent call last)",
      "\u001b[1;32m<ipython-input-287-8127b5b01125>\u001b[0m in \u001b[0;36m<module>\u001b[1;34m()\u001b[0m\n\u001b[1;32m----> 1\u001b[1;33m \u001b[0mconfusion_matrix\u001b[0m\u001b[1;33m(\u001b[0m\u001b[0mtest_labels\u001b[0m\u001b[1;33m,\u001b[0m \u001b[0mbest_grid_final\u001b[0m\u001b[1;33m.\u001b[0m\u001b[0mpredict\u001b[0m\u001b[1;33m(\u001b[0m\u001b[0mtest_features\u001b[0m\u001b[1;33m)\u001b[0m\u001b[1;33m)\u001b[0m\u001b[1;33m\u001b[0m\u001b[0m\n\u001b[0m\u001b[0;32m      2\u001b[0m \u001b[1;31m#print(classification_report(test_labels,grid_pred ))\u001b[0m\u001b[1;33m\u001b[0m\u001b[1;33m\u001b[0m\u001b[0m\n",
      "\u001b[1;32m~\\AppData\\Local\\Continuum\\anaconda3\\lib\\site-packages\\sklearn\\metrics\\classification.py\u001b[0m in \u001b[0;36mconfusion_matrix\u001b[1;34m(y_true, y_pred, labels, sample_weight)\u001b[0m\n\u001b[0;32m    248\u001b[0m \u001b[1;33m\u001b[0m\u001b[0m\n\u001b[0;32m    249\u001b[0m     \"\"\"\n\u001b[1;32m--> 250\u001b[1;33m     \u001b[0my_type\u001b[0m\u001b[1;33m,\u001b[0m \u001b[0my_true\u001b[0m\u001b[1;33m,\u001b[0m \u001b[0my_pred\u001b[0m \u001b[1;33m=\u001b[0m \u001b[0m_check_targets\u001b[0m\u001b[1;33m(\u001b[0m\u001b[0my_true\u001b[0m\u001b[1;33m,\u001b[0m \u001b[0my_pred\u001b[0m\u001b[1;33m)\u001b[0m\u001b[1;33m\u001b[0m\u001b[0m\n\u001b[0m\u001b[0;32m    251\u001b[0m     \u001b[1;32mif\u001b[0m \u001b[0my_type\u001b[0m \u001b[1;32mnot\u001b[0m \u001b[1;32min\u001b[0m \u001b[1;33m(\u001b[0m\u001b[1;34m\"binary\"\u001b[0m\u001b[1;33m,\u001b[0m \u001b[1;34m\"multiclass\"\u001b[0m\u001b[1;33m)\u001b[0m\u001b[1;33m:\u001b[0m\u001b[1;33m\u001b[0m\u001b[0m\n\u001b[0;32m    252\u001b[0m         \u001b[1;32mraise\u001b[0m \u001b[0mValueError\u001b[0m\u001b[1;33m(\u001b[0m\u001b[1;34m\"%s is not supported\"\u001b[0m \u001b[1;33m%\u001b[0m \u001b[0my_type\u001b[0m\u001b[1;33m)\u001b[0m\u001b[1;33m\u001b[0m\u001b[0m\n",
      "\u001b[1;32m~\\AppData\\Local\\Continuum\\anaconda3\\lib\\site-packages\\sklearn\\metrics\\classification.py\u001b[0m in \u001b[0;36m_check_targets\u001b[1;34m(y_true, y_pred)\u001b[0m\n\u001b[0;32m     79\u001b[0m     \u001b[1;32mif\u001b[0m \u001b[0mlen\u001b[0m\u001b[1;33m(\u001b[0m\u001b[0my_type\u001b[0m\u001b[1;33m)\u001b[0m \u001b[1;33m>\u001b[0m \u001b[1;36m1\u001b[0m\u001b[1;33m:\u001b[0m\u001b[1;33m\u001b[0m\u001b[0m\n\u001b[0;32m     80\u001b[0m         raise ValueError(\"Classification metrics can't handle a mix of {0} \"\n\u001b[1;32m---> 81\u001b[1;33m                          \"and {1} targets\".format(type_true, type_pred))\n\u001b[0m\u001b[0;32m     82\u001b[0m \u001b[1;33m\u001b[0m\u001b[0m\n\u001b[0;32m     83\u001b[0m     \u001b[1;31m# We can't have more than one value on y_type => The set is no more needed\u001b[0m\u001b[1;33m\u001b[0m\u001b[1;33m\u001b[0m\u001b[0m\n",
      "\u001b[1;31mValueError\u001b[0m: Classification metrics can't handle a mix of binary and continuous targets"
     ]
    }
   ],
   "source": [
    "confusion_matrix(test_labels, best_grid_final.predict(test_features))\n",
    "#print(classification_report(test_labels,grid_pred ))"
   ]
  },
  {
   "cell_type": "code",
   "execution_count": 205,
   "metadata": {
    "collapsed": true
   },
   "outputs": [],
   "source": [
    "import xgboost"
   ]
  },
  {
   "cell_type": "code",
   "execution_count": 246,
   "metadata": {
    "collapsed": true
   },
   "outputs": [],
   "source": [
    "def timer(start_time=None):\n",
    "    if not start_time:\n",
    "        start_time = datetime.now()\n",
    "        return start_time\n",
    "    elif start_time:\n",
    "        thour, temp_sec = divmod((datetime.now() - start_time).total_seconds(), 3600)\n",
    "        tmin, tsec = divmod(temp_sec, 60)\n",
    "        print('\\n Time taken: %i hours %i minutes and %s seconds.' % (thour, tmin, round(tsec, 2)))"
   ]
  },
  {
   "cell_type": "code",
   "execution_count": 247,
   "metadata": {
    "collapsed": true
   },
   "outputs": [],
   "source": [
    "import warnings\n",
    "warnings.filterwarnings('ignore')\n",
    "import numpy as np\n",
    "import pandas as pd\n",
    "from datetime import datetime\n",
    "from sklearn.model_selection import RandomizedSearchCV, GridSearchCV\n",
    "from sklearn.metrics import roc_auc_score\n",
    "from sklearn.model_selection import StratifiedKFold\n",
    "from xgboost import XGBClassifier"
   ]
  },
  {
   "cell_type": "code",
   "execution_count": 252,
   "metadata": {
    "collapsed": true
   },
   "outputs": [],
   "source": [
    "# A parameter grid for XGBoost\n",
    "params = {\n",
    "        'min_child_weight': [1, 5, 10],\n",
    "        'gamma': [0.5, 1, 1.5, 2, 5],\n",
    "        'subsample': [0.6, 0.8, 1.0],\n",
    "        'colsample_bytree': [0.6, 0.8, 1.0],\n",
    "        'max_depth': [3, 4, 5]\n",
    "        }"
   ]
  },
  {
   "cell_type": "code",
   "execution_count": 262,
   "metadata": {
    "collapsed": true
   },
   "outputs": [],
   "source": [
    "type(train_labels)\n",
    "train_labels=np.where(train_labels==2,0,1)\n",
    "test_lables=np.where(test_label==2,0,1)"
   ]
  },
  {
   "cell_type": "code",
   "execution_count": 263,
   "metadata": {},
   "outputs": [
    {
     "data": {
      "text/plain": [
       "array([0, 0, 0, ..., 1, 0, 0])"
      ]
     },
     "execution_count": 263,
     "metadata": {},
     "output_type": "execute_result"
    }
   ],
   "source": [
    "train_labels"
   ]
  },
  {
   "cell_type": "code",
   "execution_count": 261,
   "metadata": {},
   "outputs": [
    {
     "data": {
      "text/plain": [
       "(1102,)"
      ]
     },
     "execution_count": 261,
     "metadata": {},
     "output_type": "execute_result"
    }
   ],
   "source": [
    "train_labels.shape"
   ]
  },
  {
   "cell_type": "code",
   "execution_count": 253,
   "metadata": {
    "collapsed": true
   },
   "outputs": [],
   "source": [
    "xgb = XGBClassifier(learning_rate=0.02, n_estimators=600, objective='binary:logistic',\n",
    "                    silent=True, nthread=1)"
   ]
  },
  {
   "cell_type": "code",
   "execution_count": 254,
   "metadata": {
    "scrolled": true
   },
   "outputs": [
    {
     "data": {
      "text/plain": [
       "Age                           float32\n",
       "DailyRate                     float32\n",
       "DistanceFromHome              float32\n",
       "EmployeeCount                 float32\n",
       "Gender                        float32\n",
       "HourlyRate                    float32\n",
       "MonthlyIncome                 float32\n",
       "MonthlyRate                   float32\n",
       "NumCompaniesWorked            float32\n",
       "PercentSalaryHike             float32\n",
       "StandardHours                 float32\n",
       "TotalWorkingYears             float32\n",
       "TrainingTimesLastYear         float32\n",
       "YearsAtCompany                float32\n",
       "YearsInCurrentRole            float32\n",
       "YearsSinceLastPromotion       float32\n",
       "YearsWithCurr7                float32\n",
       "BusinessTravel_1              float32\n",
       "BusinessTravel_2              float32\n",
       "BusinessTravel_3              float32\n",
       "Department_1                  float32\n",
       "Department_2                  float32\n",
       "Department_3                  float32\n",
       "Education_1                   float32\n",
       "Education_2                   float32\n",
       "Education_3                   float32\n",
       "Education_4                   float32\n",
       "Education_5                   float32\n",
       "EducationField_1              float32\n",
       "EducationField_2              float32\n",
       "                               ...   \n",
       "JobRole_3                     float32\n",
       "JobRole_4                     float32\n",
       "JobRole_5                     float32\n",
       "JobRole_6                     float32\n",
       "JobRole_7                     float32\n",
       "JobRole_8                     float32\n",
       "JobRole_9                     float32\n",
       "JobSatisfaction_1             float32\n",
       "JobSatisfaction_2             float32\n",
       "JobSatisfaction_3             float32\n",
       "JobSatisfaction_4             float32\n",
       "MaritalStatus_1               float32\n",
       "MaritalStatus_2               float32\n",
       "MaritalStatus_3               float32\n",
       "OverTime_1                    float32\n",
       "OverTime_2                    float32\n",
       "PerformanceRating_3           float32\n",
       "PerformanceRating_4           float32\n",
       "RelationshipSatisfaction_1    float32\n",
       "RelationshipSatisfaction_2    float32\n",
       "RelationshipSatisfaction_3    float32\n",
       "RelationshipSatisfaction_4    float32\n",
       "StockOptionLevel_0            float32\n",
       "StockOptionLevel_1            float32\n",
       "StockOptionLevel_2            float32\n",
       "StockOptionLevel_3            float32\n",
       "WorkLifeBalance_1             float32\n",
       "WorkLifeBalance_2             float32\n",
       "WorkLifeBalance_3             float32\n",
       "WorkLifeBalance_4             float32\n",
       "Length: 79, dtype: object"
      ]
     },
     "execution_count": 254,
     "metadata": {},
     "output_type": "execute_result"
    }
   ],
   "source": [
    "features.dtypes\n",
    "#train_labels.shape"
   ]
  },
  {
   "cell_type": "code",
   "execution_count": 264,
   "metadata": {},
   "outputs": [
    {
     "name": "stdout",
     "output_type": "stream",
     "text": [
      "Fitting 3 folds for each of 5 candidates, totalling 15 fits\n"
     ]
    },
    {
     "name": "stderr",
     "output_type": "stream",
     "text": [
      "[Parallel(n_jobs=4)]: Done  15 out of  15 | elapsed:   16.2s finished\n"
     ]
    },
    {
     "name": "stdout",
     "output_type": "stream",
     "text": [
      "\n",
      " Time taken: 0 hours 0 minutes and 18.83 seconds.\n"
     ]
    }
   ],
   "source": [
    "folds = 3\n",
    "param_comb = 5\n",
    "\n",
    "skf = StratifiedKFold(n_splits=folds, shuffle = True, random_state = 1001)\n",
    "\n",
    "random_search = RandomizedSearchCV(xgb, param_distributions=params, n_iter=param_comb, scoring='roc_auc', n_jobs=4, verbose=3, random_state=1001 )\n",
    "\n",
    "# Here we go\n",
    "start_time = timer(None) # timing starts from this point for \"start_time\" variable\n",
    "random_search.fit(train_features, train_labels)\n",
    "timer(start_time) # timing ends here for \"start_time\" variable"
   ]
  },
  {
   "cell_type": "code",
   "execution_count": 265,
   "metadata": {
    "collapsed": true
   },
   "outputs": [
    {
     "name": "stdout",
     "output_type": "stream",
     "text": [
      "\n",
      " All results:\n",
      "{'mean_fit_time': array([1.09216015, 2.2463491 , 2.02067208, 1.56050102, 2.04766663]), 'std_fit_time': array([0.09446162, 0.04074824, 0.04579142, 0.01720427, 0.05860142]), 'mean_score_time': array([0.00516764, 0.01383313, 0.01233315, 0.00683276, 0.00900102]), 'std_score_time': array([0.00023541, 0.00094263, 0.00085024, 0.00047126, 0.00147021]), 'param_subsample': masked_array(data=[1.0, 0.6, 0.8, 1.0, 0.8],\n",
      "             mask=[False, False, False, False, False],\n",
      "       fill_value='?',\n",
      "            dtype=object), 'param_min_child_weight': masked_array(data=[5, 1, 5, 5, 1],\n",
      "             mask=[False, False, False, False, False],\n",
      "       fill_value='?',\n",
      "            dtype=object), 'param_max_depth': masked_array(data=[3, 5, 5, 5, 4],\n",
      "             mask=[False, False, False, False, False],\n",
      "       fill_value='?',\n",
      "            dtype=object), 'param_gamma': masked_array(data=[5, 1.5, 1, 5, 1],\n",
      "             mask=[False, False, False, False, False],\n",
      "       fill_value='?',\n",
      "            dtype=object), 'param_colsample_bytree': masked_array(data=[1.0, 0.8, 0.8, 0.6, 1.0],\n",
      "             mask=[False, False, False, False, False],\n",
      "       fill_value='?',\n",
      "            dtype=object), 'params': [{'subsample': 1.0, 'min_child_weight': 5, 'max_depth': 3, 'gamma': 5, 'colsample_bytree': 1.0}, {'subsample': 0.6, 'min_child_weight': 1, 'max_depth': 5, 'gamma': 1.5, 'colsample_bytree': 0.8}, {'subsample': 0.8, 'min_child_weight': 5, 'max_depth': 5, 'gamma': 1, 'colsample_bytree': 0.8}, {'subsample': 1.0, 'min_child_weight': 5, 'max_depth': 5, 'gamma': 5, 'colsample_bytree': 0.6}, {'subsample': 0.8, 'min_child_weight': 1, 'max_depth': 4, 'gamma': 1, 'colsample_bytree': 1.0}], 'split0_test_score': array([0.7996357 , 0.81967213, 0.80723393, 0.81061671, 0.82019256]), 'split1_test_score': array([0.81592001, 0.81693818, 0.80524227, 0.81578947, 0.81234336]), 'split2_test_score': array([0.80631266, 0.83975564, 0.83411654, 0.82419591, 0.82696324]), 'mean_test_score': array([0.80728251, 0.82545007, 0.81552339, 0.81686169, 0.81983338]), 'std_test_score': array([0.00668476, 0.01017014, 0.01316355, 0.00559646, 0.00597125]), 'rank_test_score': array([5, 1, 4, 3, 2]), 'split0_train_score': array([0.90271904, 0.99979114, 0.99592732, 0.92257989, 0.99994779]), 'split1_train_score': array([0.90694477, 0.99970026, 0.99551698, 0.92690333, 0.99997394]), 'split2_train_score': array([0.89116949, 0.99917898, 0.99396617, 0.92864962, 0.9996351 ]), 'mean_train_score': array([0.90027777, 0.9995568 , 0.99513682, 0.92604428, 0.99985228]), 'std_train_score': array([0.00666757, 0.00026972, 0.00084456, 0.00255133, 0.00015393])}\n",
      "\n",
      " Best estimator:\n",
      "XGBClassifier(base_score=0.5, booster='gbtree', colsample_bylevel=1,\n",
      "       colsample_bytree=0.8, gamma=1.5, learning_rate=0.02,\n",
      "       max_delta_step=0, max_depth=5, min_child_weight=1, missing=None,\n",
      "       n_estimators=600, n_jobs=1, nthread=1, objective='binary:logistic',\n",
      "       random_state=0, reg_alpha=0, reg_lambda=1, scale_pos_weight=1,\n",
      "       seed=None, silent=True, subsample=0.6)\n",
      "\n",
      " Best normalized gini score for 3-fold search with 5 parameter combinations:\n",
      "0.650900136884812\n",
      "\n",
      " Best hyperparameters:\n",
      "{'subsample': 0.6, 'min_child_weight': 1, 'max_depth': 5, 'gamma': 1.5, 'colsample_bytree': 0.8}\n"
     ]
    }
   ],
   "source": [
    "print('\\n All results:')\n",
    "print(random_search.cv_results_)\n",
    "print('\\n Best estimator:')\n",
    "print(random_search.best_estimator_)\n",
    "print('\\n Best normalized gini score for %d-fold search with %d parameter combinations:' % (folds, param_comb))\n",
    "print(random_search.best_score_ * 2 - 1)\n",
    "print('\\n Best hyperparameters:')\n",
    "print(random_search.best_params_)"
   ]
  },
  {
   "cell_type": "code",
   "execution_count": 266,
   "metadata": {
    "collapsed": true
   },
   "outputs": [],
   "source": [
    "y_test = random_search.predict_proba(test_features)\n",
    "#results_df = pd.DataFrame(data={'id':test_df['id'], 'target':y_test[:,1]})\n",
    "#results_df.to_csv('submission-random-grid-search-xgb-porto-01.csv', index=False)"
   ]
  },
  {
   "cell_type": "code",
   "execution_count": 267,
   "metadata": {},
   "outputs": [
    {
     "data": {
      "text/plain": [
       "array([[0.953607  , 0.04639298],\n",
       "       [0.99039555, 0.00960447],\n",
       "       [0.66042674, 0.3395733 ],\n",
       "       [0.9829619 , 0.0170381 ],\n",
       "       [0.9717719 , 0.02822811],\n",
       "       [0.54113305, 0.45886698],\n",
       "       [0.9400626 , 0.05993744],\n",
       "       [0.94975185, 0.05024812],\n",
       "       [0.89175826, 0.10824176],\n",
       "       [0.96584296, 0.03415704],\n",
       "       [0.7034514 , 0.29654858],\n",
       "       [0.84280396, 0.15719603],\n",
       "       [0.9771714 , 0.02282859],\n",
       "       [0.92774576, 0.07225422],\n",
       "       [0.9716295 , 0.02837052],\n",
       "       [0.9411914 , 0.05880863],\n",
       "       [0.7349113 , 0.26508868],\n",
       "       [0.96336305, 0.03663694],\n",
       "       [0.9547245 , 0.04527553],\n",
       "       [0.9671579 , 0.03284208],\n",
       "       [0.8239794 , 0.17602059],\n",
       "       [0.977975  , 0.02202498],\n",
       "       [0.9841897 , 0.0158103 ],\n",
       "       [0.9001239 , 0.09987608],\n",
       "       [0.96571076, 0.03428922],\n",
       "       [0.9110238 , 0.08897621],\n",
       "       [0.83494985, 0.16505018],\n",
       "       [0.9859417 , 0.01405827],\n",
       "       [0.96230996, 0.03769006],\n",
       "       [0.9827963 , 0.01720366],\n",
       "       [0.98112327, 0.01887673],\n",
       "       [0.99462247, 0.00537752],\n",
       "       [0.99609286, 0.00390715],\n",
       "       [0.977507  , 0.02249303],\n",
       "       [0.7460388 , 0.25396124],\n",
       "       [0.9843256 , 0.01567439],\n",
       "       [0.99734885, 0.00265115],\n",
       "       [0.9114237 , 0.08857633],\n",
       "       [0.45160502, 0.548395  ],\n",
       "       [0.99284065, 0.00715936],\n",
       "       [0.9364623 , 0.06353771],\n",
       "       [0.84725696, 0.15274303],\n",
       "       [0.9912283 , 0.00877171],\n",
       "       [0.97840637, 0.02159361],\n",
       "       [0.20795596, 0.79204404],\n",
       "       [0.98998666, 0.01001335],\n",
       "       [0.3789026 , 0.6210974 ],\n",
       "       [0.2875114 , 0.7124886 ],\n",
       "       [0.90469235, 0.09530767],\n",
       "       [0.12761122, 0.8723888 ],\n",
       "       [0.9581186 , 0.04188136],\n",
       "       [0.9487578 , 0.05124219],\n",
       "       [0.9382964 , 0.06170365],\n",
       "       [0.8732996 , 0.12670039],\n",
       "       [0.9692798 , 0.03072018],\n",
       "       [0.9591805 , 0.04081954],\n",
       "       [0.6200929 , 0.37990707],\n",
       "       [0.99739116, 0.00260881],\n",
       "       [0.9852061 , 0.01479388],\n",
       "       [0.9074898 , 0.09251022],\n",
       "       [0.9419296 , 0.05807043],\n",
       "       [0.18618089, 0.8138191 ],\n",
       "       [0.95461625, 0.04538374],\n",
       "       [0.9864769 , 0.01352313],\n",
       "       [0.5004755 , 0.49952444],\n",
       "       [0.6988877 , 0.30111226],\n",
       "       [0.9821298 , 0.0178702 ],\n",
       "       [0.95093113, 0.04906888],\n",
       "       [0.9901232 , 0.00987681],\n",
       "       [0.92884403, 0.07115596],\n",
       "       [0.95203954, 0.04796048],\n",
       "       [0.94098705, 0.05901294],\n",
       "       [0.8843339 , 0.11566611],\n",
       "       [0.975476  , 0.02452396],\n",
       "       [0.9823455 , 0.01765449],\n",
       "       [0.9858714 , 0.01412862],\n",
       "       [0.9889507 , 0.01104928],\n",
       "       [0.97799295, 0.02200703],\n",
       "       [0.82472736, 0.17527263],\n",
       "       [0.88572794, 0.11427204],\n",
       "       [0.99798477, 0.00201524],\n",
       "       [0.98018104, 0.01981897],\n",
       "       [0.9565881 , 0.04341191],\n",
       "       [0.87111723, 0.12888277],\n",
       "       [0.92174816, 0.07825183],\n",
       "       [0.96866786, 0.03133211],\n",
       "       [0.8422015 , 0.15779853],\n",
       "       [0.92710984, 0.07289018],\n",
       "       [0.9871651 , 0.01283491],\n",
       "       [0.9774807 , 0.02251929],\n",
       "       [0.99254954, 0.00745046],\n",
       "       [0.50309306, 0.49690694],\n",
       "       [0.84050524, 0.15949473],\n",
       "       [0.7315246 , 0.26847538],\n",
       "       [0.9445854 , 0.05541463],\n",
       "       [0.93366385, 0.06633613],\n",
       "       [0.9872988 , 0.01270124],\n",
       "       [0.957031  , 0.04296902],\n",
       "       [0.9087824 , 0.09121758],\n",
       "       [0.96735734, 0.03264269],\n",
       "       [0.86922956, 0.13077047],\n",
       "       [0.9911776 , 0.00882241],\n",
       "       [0.96365345, 0.03634655],\n",
       "       [0.8734872 , 0.12651284],\n",
       "       [0.9802467 , 0.01975326],\n",
       "       [0.92796755, 0.07203242],\n",
       "       [0.9817573 , 0.01824271],\n",
       "       [0.3144095 , 0.6855905 ],\n",
       "       [0.9535957 , 0.0464043 ],\n",
       "       [0.9813464 , 0.01865358],\n",
       "       [0.3633513 , 0.6366487 ],\n",
       "       [0.87055486, 0.12944512],\n",
       "       [0.9790695 , 0.02093052],\n",
       "       [0.97311366, 0.02688633],\n",
       "       [0.49566358, 0.5043364 ],\n",
       "       [0.94310623, 0.05689374],\n",
       "       [0.79447275, 0.20552725],\n",
       "       [0.9689827 , 0.03101732],\n",
       "       [0.9871728 , 0.01282721],\n",
       "       [0.8870953 , 0.11290473],\n",
       "       [0.94085133, 0.05914864],\n",
       "       [0.9795576 , 0.02044243],\n",
       "       [0.8304025 , 0.16959748],\n",
       "       [0.9611048 , 0.03889522],\n",
       "       [0.8525876 , 0.14741239],\n",
       "       [0.1854021 , 0.8145979 ],\n",
       "       [0.9563102 , 0.04368977],\n",
       "       [0.9816862 , 0.01831384],\n",
       "       [0.96980095, 0.03019903],\n",
       "       [0.9585281 , 0.0414719 ],\n",
       "       [0.9680059 , 0.03199409],\n",
       "       [0.5049924 , 0.49500757],\n",
       "       [0.68243414, 0.31756586],\n",
       "       [0.95831937, 0.04168062],\n",
       "       [0.9898551 , 0.01014486],\n",
       "       [0.91711056, 0.08288944],\n",
       "       [0.89245486, 0.10754517],\n",
       "       [0.21656066, 0.78343934],\n",
       "       [0.8283615 , 0.17163849],\n",
       "       [0.98759246, 0.01240751],\n",
       "       [0.12668735, 0.87331265],\n",
       "       [0.84984   , 0.15016003],\n",
       "       [0.9950858 , 0.00491421],\n",
       "       [0.92825204, 0.07174794],\n",
       "       [0.99492615, 0.00507383],\n",
       "       [0.9572394 , 0.04276059],\n",
       "       [0.97340757, 0.02659242],\n",
       "       [0.24805915, 0.75194085],\n",
       "       [0.861723  , 0.13827698],\n",
       "       [0.809059  , 0.19094096],\n",
       "       [0.9897767 , 0.01022335],\n",
       "       [0.8925375 , 0.10746253],\n",
       "       [0.916886  , 0.08311406],\n",
       "       [0.7092017 , 0.29079834],\n",
       "       [0.91762364, 0.08237638],\n",
       "       [0.8020401 , 0.19795987],\n",
       "       [0.97122884, 0.02877116],\n",
       "       [0.9434518 , 0.0565482 ],\n",
       "       [0.98417413, 0.01582584],\n",
       "       [0.9755533 , 0.02444674],\n",
       "       [0.9867531 , 0.01324688],\n",
       "       [0.9593389 , 0.0406611 ],\n",
       "       [0.97850996, 0.02149002],\n",
       "       [0.5814398 , 0.4185602 ],\n",
       "       [0.99439836, 0.00560167],\n",
       "       [0.77748305, 0.22251695],\n",
       "       [0.73610675, 0.26389325],\n",
       "       [0.9880356 , 0.01196436],\n",
       "       [0.9892673 , 0.01073274],\n",
       "       [0.97638476, 0.02361524],\n",
       "       [0.9704188 , 0.02958116],\n",
       "       [0.9904441 , 0.00955588],\n",
       "       [0.5588101 , 0.4411899 ],\n",
       "       [0.87738454, 0.12261549],\n",
       "       [0.8959047 , 0.10409529],\n",
       "       [0.7503495 , 0.24965046],\n",
       "       [0.9903551 , 0.00964493],\n",
       "       [0.9515262 , 0.04847377],\n",
       "       [0.94093996, 0.05906006],\n",
       "       [0.6728283 , 0.32717165],\n",
       "       [0.92814404, 0.07185595],\n",
       "       [0.9376952 , 0.06230479],\n",
       "       [0.933114  , 0.06688601],\n",
       "       [0.98643506, 0.01356493],\n",
       "       [0.9647105 , 0.0352895 ],\n",
       "       [0.8912697 , 0.10873032],\n",
       "       [0.7529075 , 0.24709246],\n",
       "       [0.8842692 , 0.11573081],\n",
       "       [0.9813154 , 0.0186846 ],\n",
       "       [0.9789391 , 0.02106088],\n",
       "       [0.99817055, 0.00182942],\n",
       "       [0.51706   , 0.48294002],\n",
       "       [0.6419289 , 0.35807106],\n",
       "       [0.9153141 , 0.0846859 ],\n",
       "       [0.9803015 , 0.01969847],\n",
       "       [0.8645469 , 0.1354531 ],\n",
       "       [0.8017056 , 0.1982944 ],\n",
       "       [0.992804  , 0.00719602],\n",
       "       [0.9823808 , 0.01761921],\n",
       "       [0.9735041 , 0.0264959 ],\n",
       "       [0.8083441 , 0.19165586],\n",
       "       [0.98810816, 0.01189185],\n",
       "       [0.83717227, 0.16282772],\n",
       "       [0.98793113, 0.01206886],\n",
       "       [0.9960092 , 0.00399084],\n",
       "       [0.8833288 , 0.11667117],\n",
       "       [0.9336736 , 0.0663264 ],\n",
       "       [0.9900552 , 0.0099448 ],\n",
       "       [0.9372695 , 0.06273048],\n",
       "       [0.78242   , 0.21758002],\n",
       "       [0.96851534, 0.03148465],\n",
       "       [0.7855369 , 0.21446311],\n",
       "       [0.96441764, 0.03558238],\n",
       "       [0.8362752 , 0.16372477],\n",
       "       [0.9159303 , 0.08406976],\n",
       "       [0.9736669 , 0.02633307],\n",
       "       [0.98516494, 0.01483507],\n",
       "       [0.9919901 , 0.00800989],\n",
       "       [0.7025651 , 0.29743493],\n",
       "       [0.9913769 , 0.00862313],\n",
       "       [0.9352635 , 0.06473647],\n",
       "       [0.7588583 , 0.24114165],\n",
       "       [0.986023  , 0.01397701],\n",
       "       [0.2334168 , 0.7665832 ],\n",
       "       [0.9378921 , 0.06210795],\n",
       "       [0.51498836, 0.48501164],\n",
       "       [0.96811616, 0.03188384],\n",
       "       [0.9874933 , 0.01250674],\n",
       "       [0.9295968 , 0.0704032 ],\n",
       "       [0.96013725, 0.03986277],\n",
       "       [0.45168102, 0.548319  ],\n",
       "       [0.8463324 , 0.15366764],\n",
       "       [0.94641054, 0.05358946],\n",
       "       [0.89255846, 0.10744154],\n",
       "       [0.8642046 , 0.13579541],\n",
       "       [0.99128556, 0.00871444],\n",
       "       [0.99347574, 0.00652426],\n",
       "       [0.91805285, 0.08194715],\n",
       "       [0.9581338 , 0.04186619],\n",
       "       [0.9690398 , 0.03096019],\n",
       "       [0.6960981 , 0.30390194],\n",
       "       [0.9785258 , 0.02147417],\n",
       "       [0.6182201 , 0.38177988],\n",
       "       [0.9923301 , 0.0076699 ],\n",
       "       [0.96826077, 0.03173921],\n",
       "       [0.6592499 , 0.3407501 ],\n",
       "       [0.9949785 , 0.00502152],\n",
       "       [0.9206537 , 0.07934631],\n",
       "       [0.9846017 , 0.01539832],\n",
       "       [0.9783352 , 0.0216648 ],\n",
       "       [0.9582197 , 0.0417803 ],\n",
       "       [0.97666466, 0.02333533],\n",
       "       [0.7092973 , 0.29070273],\n",
       "       [0.9910972 , 0.0089028 ],\n",
       "       [0.9507664 , 0.04923363],\n",
       "       [0.99418616, 0.00581382],\n",
       "       [0.8755813 , 0.12441865],\n",
       "       [0.8737141 , 0.12628591],\n",
       "       [0.709219  , 0.290781  ],\n",
       "       [0.9890942 , 0.0109058 ],\n",
       "       [0.91000164, 0.08999834],\n",
       "       [0.9476346 , 0.05236542],\n",
       "       [0.84637296, 0.15362702],\n",
       "       [0.8985638 , 0.10143621],\n",
       "       [0.85630894, 0.14369105],\n",
       "       [0.9305168 , 0.06948322],\n",
       "       [0.98931795, 0.01068203],\n",
       "       [0.8506547 , 0.1493453 ],\n",
       "       [0.94866663, 0.05133339],\n",
       "       [0.9487331 , 0.05126691],\n",
       "       [0.98064196, 0.01935804],\n",
       "       [0.9933234 , 0.0066766 ],\n",
       "       [0.9491771 , 0.05082291],\n",
       "       [0.6721491 , 0.32785088],\n",
       "       [0.8943618 , 0.10563818],\n",
       "       [0.9533995 , 0.04660054],\n",
       "       [0.92870545, 0.07129456],\n",
       "       [0.97142786, 0.02857216],\n",
       "       [0.9917291 , 0.0082709 ],\n",
       "       [0.91074073, 0.08925926],\n",
       "       [0.9858185 , 0.01418152],\n",
       "       [0.6070789 , 0.39292112],\n",
       "       [0.78258055, 0.21741946],\n",
       "       [0.95861274, 0.04138726],\n",
       "       [0.87563086, 0.12436911],\n",
       "       [0.99116635, 0.00883363],\n",
       "       [0.9154885 , 0.08451149],\n",
       "       [0.91586465, 0.08413536],\n",
       "       [0.96434027, 0.03565972],\n",
       "       [0.9860015 , 0.01399848],\n",
       "       [0.9802003 , 0.01979973],\n",
       "       [0.9546803 , 0.0453197 ],\n",
       "       [0.94312334, 0.05687666],\n",
       "       [0.86472476, 0.13527526],\n",
       "       [0.51959074, 0.48040926],\n",
       "       [0.7205783 , 0.27942172],\n",
       "       [0.9923493 , 0.0076507 ],\n",
       "       [0.98251766, 0.01748233],\n",
       "       [0.95175475, 0.04824525],\n",
       "       [0.970447  , 0.02955298],\n",
       "       [0.96821874, 0.03178126],\n",
       "       [0.90801966, 0.09198032],\n",
       "       [0.65934646, 0.34065357],\n",
       "       [0.84960544, 0.15039453],\n",
       "       [0.92781425, 0.07218572],\n",
       "       [0.9626504 , 0.03734961],\n",
       "       [0.8605911 , 0.13940887],\n",
       "       [0.99102247, 0.00897754],\n",
       "       [0.92126024, 0.07873976],\n",
       "       [0.17062575, 0.82937425],\n",
       "       [0.8256741 , 0.1743259 ],\n",
       "       [0.964755  , 0.03524502],\n",
       "       [0.98493123, 0.01506878],\n",
       "       [0.8793534 , 0.12064663],\n",
       "       [0.8599372 , 0.14006278],\n",
       "       [0.9512291 , 0.04877089],\n",
       "       [0.98415494, 0.01584508],\n",
       "       [0.84956706, 0.15043293],\n",
       "       [0.9645028 , 0.03549717],\n",
       "       [0.97208375, 0.02791627],\n",
       "       [0.8687813 , 0.13121864],\n",
       "       [0.9907    , 0.00930001],\n",
       "       [0.9544716 , 0.04552841],\n",
       "       [0.9737422 , 0.02625783],\n",
       "       [0.9910122 , 0.00898776],\n",
       "       [0.974439  , 0.02556095],\n",
       "       [0.9538065 , 0.04619348],\n",
       "       [0.8136914 , 0.1863086 ],\n",
       "       [0.9906887 , 0.00931131],\n",
       "       [0.9672638 , 0.03273617],\n",
       "       [0.97041553, 0.02958447],\n",
       "       [0.8710478 , 0.12895219],\n",
       "       [0.9894922 , 0.01050782],\n",
       "       [0.98763967, 0.01236036],\n",
       "       [0.9830888 , 0.01691122],\n",
       "       [0.8972126 , 0.1027874 ],\n",
       "       [0.9915928 , 0.0084072 ],\n",
       "       [0.96138746, 0.03861253],\n",
       "       [0.7516286 , 0.24837144],\n",
       "       [0.9725891 , 0.02741092],\n",
       "       [0.97435206, 0.02564796],\n",
       "       [0.7355536 , 0.26444635],\n",
       "       [0.9686089 , 0.03139111],\n",
       "       [0.99069226, 0.00930772],\n",
       "       [0.78747034, 0.21252966],\n",
       "       [0.9788798 , 0.0211202 ],\n",
       "       [0.5905795 , 0.40942052],\n",
       "       [0.97250926, 0.02749074],\n",
       "       [0.67961514, 0.32038483],\n",
       "       [0.971351  , 0.028649  ],\n",
       "       [0.9778321 , 0.02216794],\n",
       "       [0.9473468 , 0.0526532 ],\n",
       "       [0.96894765, 0.03105236],\n",
       "       [0.9863329 , 0.01366708],\n",
       "       [0.95826936, 0.04173063],\n",
       "       [0.98600453, 0.01399549],\n",
       "       [0.9339892 , 0.06601079],\n",
       "       [0.8457239 , 0.15427606],\n",
       "       [0.99565727, 0.00434274],\n",
       "       [0.89482236, 0.10517763],\n",
       "       [0.8423698 , 0.15763023],\n",
       "       [0.49057972, 0.5094203 ],\n",
       "       [0.7221265 , 0.27787355],\n",
       "       [0.68216515, 0.31783485],\n",
       "       [0.94584155, 0.05415844],\n",
       "       [0.9859686 , 0.01403144],\n",
       "       [0.89186084, 0.10813913],\n",
       "       [0.96212935, 0.03787065]], dtype=float32)"
      ]
     },
     "execution_count": 267,
     "metadata": {},
     "output_type": "execute_result"
    }
   ],
   "source": [
    "y_test"
   ]
  },
  {
   "cell_type": "code",
   "execution_count": 269,
   "metadata": {
    "scrolled": true
   },
   "outputs": [
    {
     "name": "stdout",
     "output_type": "stream",
     "text": [
      "Fitting 3 folds for each of 405 candidates, totalling 1215 fits\n"
     ]
    },
    {
     "name": "stderr",
     "output_type": "stream",
     "text": [
      "[Parallel(n_jobs=4)]: Done  24 tasks      | elapsed:   18.5s\n",
      "[Parallel(n_jobs=4)]: Done 120 tasks      | elapsed:   58.5s\n",
      "[Parallel(n_jobs=4)]: Done 280 tasks      | elapsed:  2.2min\n",
      "[Parallel(n_jobs=4)]: Done 504 tasks      | elapsed:  4.0min\n",
      "[Parallel(n_jobs=4)]: Done 792 tasks      | elapsed:  6.8min\n",
      "[Parallel(n_jobs=4)]: Done 1144 tasks      | elapsed: 11.0min\n",
      "[Parallel(n_jobs=4)]: Done 1215 out of 1215 | elapsed: 11.8min finished\n"
     ]
    },
    {
     "data": {
      "text/plain": [
       "GridSearchCV(cv=<generator object _BaseKFold.split at 0x000001BF27902FC0>,\n",
       "       error_score='raise',\n",
       "       estimator=XGBClassifier(base_score=0.5, booster='gbtree', colsample_bylevel=1,\n",
       "       colsample_bytree=1, gamma=0, learning_rate=0.02, max_delta_step=0,\n",
       "       max_depth=3, min_child_weight=1, missing=None, n_estimators=600,\n",
       "       n_jobs=1, nthread=1, objective='binary:logistic', random_state=0,\n",
       "       reg_alpha=0, reg_lambda=1, scale_pos_weight=1, seed=None,\n",
       "       silent=True, subsample=1),\n",
       "       fit_params=None, iid=True, n_jobs=4,\n",
       "       param_grid={'min_child_weight': [1, 5, 10], 'gamma': [0.5, 1, 1.5, 2, 5], 'subsample': [0.6, 0.8, 1.0], 'colsample_bytree': [0.6, 0.8, 1.0], 'max_depth': [3, 4, 5]},\n",
       "       pre_dispatch='2*n_jobs', refit=True, return_train_score=True,\n",
       "       scoring='roc_auc', verbose=3)"
      ]
     },
     "execution_count": 269,
     "metadata": {},
     "output_type": "execute_result"
    }
   ],
   "source": [
    "grid = GridSearchCV(estimator=xgb, param_grid=params, scoring='roc_auc', n_jobs=4, cv=skf.split(train_features, train_labels), verbose=3 )\n",
    "grid.fit(train_features, train_labels)\n",
    "# print('\\n All results:')\n",
    "# print(grid.cv_results_)\n",
    "# print('\\n Best estimator:')\n",
    "# print(grid.best_estimator_)\n",
    "# print('\\n Best score:')\n",
    "# print(grid.best_score_ * 2 - 1)\n",
    "# print('\\n Best parameters:')\n",
    "# print(grid.best_params_)\n",
    "# results = pd.DataFrame(grid.cv_results_)\n",
    "# results.to_csv('xgb-grid-search-results-01.csv', index=False)\n",
    "\n",
    "#y_test = grid.best_estimator_.predict_proba(test)\n",
    "# results_df = pd.DataFrame(data={'id':test_df['id'], 'target':y_test[:,1]})\n",
    "# results_df.to_csv('submission-grid-search-xgb-porto-01.csv', index=False)"
   ]
  },
  {
   "cell_type": "code",
   "execution_count": 271,
   "metadata": {
    "collapsed": true
   },
   "outputs": [],
   "source": [
    "y_test = grid.best_estimator_.predict_proba(test_features)"
   ]
  },
  {
   "cell_type": "code",
   "execution_count": 272,
   "metadata": {},
   "outputs": [
    {
     "data": {
      "text/plain": [
       "array([[0.9195561 , 0.08044393],\n",
       "       [0.98100066, 0.01899932],\n",
       "       [0.5899068 , 0.41009316],\n",
       "       [0.9676505 , 0.03234953],\n",
       "       [0.94894135, 0.05105864],\n",
       "       [0.61935127, 0.38064876],\n",
       "       [0.90877885, 0.09122117],\n",
       "       [0.9225794 , 0.07742056],\n",
       "       [0.8755983 , 0.1244017 ],\n",
       "       [0.94959104, 0.05040898],\n",
       "       [0.64188814, 0.3581119 ],\n",
       "       [0.8042077 , 0.19579235],\n",
       "       [0.949894  , 0.05010596],\n",
       "       [0.8961468 , 0.1038532 ],\n",
       "       [0.9399999 , 0.06000012],\n",
       "       [0.91513425, 0.08486576],\n",
       "       [0.68942046, 0.31057957],\n",
       "       [0.9409292 , 0.05907084],\n",
       "       [0.9469614 , 0.0530386 ],\n",
       "       [0.9538884 , 0.04611159],\n",
       "       [0.81828845, 0.18171154],\n",
       "       [0.96828616, 0.03171381],\n",
       "       [0.96620107, 0.03379895],\n",
       "       [0.87290734, 0.12709266],\n",
       "       [0.9489819 , 0.0510181 ],\n",
       "       [0.8954469 , 0.10455312],\n",
       "       [0.8193679 , 0.18063213],\n",
       "       [0.9768645 , 0.0231355 ],\n",
       "       [0.94848734, 0.05151265],\n",
       "       [0.97535455, 0.02464542],\n",
       "       [0.9766537 , 0.0233463 ],\n",
       "       [0.9872432 , 0.01275682],\n",
       "       [0.99329966, 0.00670032],\n",
       "       [0.9658962 , 0.03410382],\n",
       "       [0.61696184, 0.38303816],\n",
       "       [0.9659518 , 0.03404821],\n",
       "       [0.9950276 , 0.0049724 ],\n",
       "       [0.77773225, 0.22226778],\n",
       "       [0.5067433 , 0.49325666],\n",
       "       [0.9839834 , 0.01601662],\n",
       "       [0.9054812 , 0.0945188 ],\n",
       "       [0.7849289 , 0.21507107],\n",
       "       [0.9854932 , 0.0145068 ],\n",
       "       [0.96244186, 0.03755812],\n",
       "       [0.40395015, 0.59604985],\n",
       "       [0.9767138 , 0.0232862 ],\n",
       "       [0.41354114, 0.58645886],\n",
       "       [0.39157778, 0.6084222 ],\n",
       "       [0.84715474, 0.15284526],\n",
       "       [0.16115189, 0.8388481 ],\n",
       "       [0.9404472 , 0.05955279],\n",
       "       [0.9396796 , 0.06032038],\n",
       "       [0.89137405, 0.10862594],\n",
       "       [0.87236893, 0.1276311 ],\n",
       "       [0.94359857, 0.05640143],\n",
       "       [0.9158406 , 0.08415934],\n",
       "       [0.74878514, 0.2512149 ],\n",
       "       [0.9920812 , 0.00791877],\n",
       "       [0.9798003 , 0.02019974],\n",
       "       [0.9080229 , 0.0919771 ],\n",
       "       [0.9334209 , 0.06657912],\n",
       "       [0.18078637, 0.8192136 ],\n",
       "       [0.9522829 , 0.04771712],\n",
       "       [0.97534657, 0.02465341],\n",
       "       [0.5183166 , 0.4816834 ],\n",
       "       [0.7248498 , 0.27515018],\n",
       "       [0.9760869 , 0.02391307],\n",
       "       [0.9496905 , 0.05030951],\n",
       "       [0.9777568 , 0.02224321],\n",
       "       [0.888385  , 0.11161499],\n",
       "       [0.92927027, 0.07072971],\n",
       "       [0.92455703, 0.07544299],\n",
       "       [0.8106712 , 0.18932882],\n",
       "       [0.94678617, 0.05321384],\n",
       "       [0.96849895, 0.03150108],\n",
       "       [0.9760819 , 0.02391807],\n",
       "       [0.9724947 , 0.02750525],\n",
       "       [0.96558905, 0.03441096],\n",
       "       [0.7989163 , 0.2010837 ],\n",
       "       [0.9055314 , 0.09446856],\n",
       "       [0.99529374, 0.00470625],\n",
       "       [0.97216547, 0.02783454],\n",
       "       [0.9320358 , 0.06796419],\n",
       "       [0.83708173, 0.16291828],\n",
       "       [0.8973507 , 0.10264926],\n",
       "       [0.9707362 , 0.02926379],\n",
       "       [0.72759783, 0.2724022 ],\n",
       "       [0.9025838 , 0.09741624],\n",
       "       [0.9761338 , 0.02386618],\n",
       "       [0.9764933 , 0.02350669],\n",
       "       [0.9821096 , 0.01789041],\n",
       "       [0.6320684 , 0.3679316 ],\n",
       "       [0.8749238 , 0.12507619],\n",
       "       [0.70970726, 0.29029274],\n",
       "       [0.9313311 , 0.0686689 ],\n",
       "       [0.8833848 , 0.11661516],\n",
       "       [0.9772755 , 0.02272451],\n",
       "       [0.93661135, 0.06338866],\n",
       "       [0.8608661 , 0.13913387],\n",
       "       [0.9460296 , 0.0539704 ],\n",
       "       [0.84374475, 0.15625528],\n",
       "       [0.9817173 , 0.01828269],\n",
       "       [0.93608034, 0.06391967],\n",
       "       [0.89379156, 0.10620847],\n",
       "       [0.9623268 , 0.03767315],\n",
       "       [0.8792831 , 0.12071693],\n",
       "       [0.9735692 , 0.02643079],\n",
       "       [0.46771705, 0.53228295],\n",
       "       [0.9384188 , 0.06158118],\n",
       "       [0.9903824 , 0.00961763],\n",
       "       [0.359936  , 0.640064  ],\n",
       "       [0.7420467 , 0.25795326],\n",
       "       [0.9770676 , 0.02293242],\n",
       "       [0.95446634, 0.04553368],\n",
       "       [0.4559608 , 0.5440392 ],\n",
       "       [0.92309356, 0.07690645],\n",
       "       [0.75742507, 0.24257493],\n",
       "       [0.9581475 , 0.04185248],\n",
       "       [0.9774336 , 0.02256639],\n",
       "       [0.7925108 , 0.20748919],\n",
       "       [0.9131079 , 0.08689212],\n",
       "       [0.95672536, 0.04327464],\n",
       "       [0.8023759 , 0.1976241 ],\n",
       "       [0.96826637, 0.03173366],\n",
       "       [0.78426033, 0.21573967],\n",
       "       [0.1867925 , 0.8132075 ],\n",
       "       [0.9283564 , 0.07164358],\n",
       "       [0.97420144, 0.02579858],\n",
       "       [0.9530934 , 0.04690658],\n",
       "       [0.9461037 , 0.05389631],\n",
       "       [0.9411345 , 0.05886551],\n",
       "       [0.54713297, 0.45286703],\n",
       "       [0.64067686, 0.3593231 ],\n",
       "       [0.9536134 , 0.04638661],\n",
       "       [0.9775023 , 0.02249774],\n",
       "       [0.90034   , 0.09966   ],\n",
       "       [0.82309616, 0.17690381],\n",
       "       [0.31787223, 0.6821278 ],\n",
       "       [0.76590735, 0.23409265],\n",
       "       [0.9780875 , 0.02191251],\n",
       "       [0.20394379, 0.7960562 ],\n",
       "       [0.8328914 , 0.16710861],\n",
       "       [0.9869204 , 0.01307958],\n",
       "       [0.8181871 , 0.18181287],\n",
       "       [0.99116987, 0.00883012],\n",
       "       [0.94208926, 0.05791077],\n",
       "       [0.9389286 , 0.06107138],\n",
       "       [0.4446326 , 0.5553674 ],\n",
       "       [0.7776667 , 0.2223333 ],\n",
       "       [0.6906822 , 0.3093178 ],\n",
       "       [0.9813329 , 0.01866711],\n",
       "       [0.87719303, 0.12280697],\n",
       "       [0.9010796 , 0.09892043],\n",
       "       [0.61639774, 0.3836023 ],\n",
       "       [0.84802973, 0.15197025],\n",
       "       [0.84240055, 0.15759948],\n",
       "       [0.9506125 , 0.04938749],\n",
       "       [0.9128468 , 0.08715318],\n",
       "       [0.9443687 , 0.05563129],\n",
       "       [0.95968187, 0.04031813],\n",
       "       [0.9833709 , 0.0166291 ],\n",
       "       [0.9487559 , 0.05124408],\n",
       "       [0.9854663 , 0.01453372],\n",
       "       [0.6429849 , 0.35701507],\n",
       "       [0.98994285, 0.01005712],\n",
       "       [0.68302876, 0.31697124],\n",
       "       [0.81052005, 0.18947995],\n",
       "       [0.9663642 , 0.03363577],\n",
       "       [0.98791635, 0.01208366],\n",
       "       [0.96825653, 0.03174347],\n",
       "       [0.9500708 , 0.0499292 ],\n",
       "       [0.9856416 , 0.0143584 ],\n",
       "       [0.6933063 , 0.30669367],\n",
       "       [0.82893145, 0.17106853],\n",
       "       [0.87931794, 0.12068206],\n",
       "       [0.7055681 , 0.29443195],\n",
       "       [0.9790384 , 0.02096156],\n",
       "       [0.91981137, 0.08018861],\n",
       "       [0.8622983 , 0.13770168],\n",
       "       [0.5586524 , 0.44134763],\n",
       "       [0.8880544 , 0.11194561],\n",
       "       [0.92403543, 0.0759646 ],\n",
       "       [0.948622  , 0.05137802],\n",
       "       [0.9678667 , 0.0321333 ],\n",
       "       [0.94309044, 0.05690954],\n",
       "       [0.88333094, 0.11666904],\n",
       "       [0.75112873, 0.24887127],\n",
       "       [0.83333504, 0.16666499],\n",
       "       [0.9846104 , 0.01538963],\n",
       "       [0.96149933, 0.03850066],\n",
       "       [0.99533784, 0.00466218],\n",
       "       [0.42466104, 0.57533896],\n",
       "       [0.66081357, 0.33918643],\n",
       "       [0.8615768 , 0.13842322],\n",
       "       [0.9674824 , 0.03251763],\n",
       "       [0.8864384 , 0.11356157],\n",
       "       [0.6695999 , 0.33040008],\n",
       "       [0.98681736, 0.01318265],\n",
       "       [0.96100605, 0.03899397],\n",
       "       [0.9420421 , 0.0579579 ],\n",
       "       [0.7747269 , 0.22527306],\n",
       "       [0.9712777 , 0.02872228],\n",
       "       [0.7909421 , 0.20905796],\n",
       "       [0.98710394, 0.01289608],\n",
       "       [0.9922298 , 0.00777021],\n",
       "       [0.89641523, 0.10358475],\n",
       "       [0.91972154, 0.08027848],\n",
       "       [0.977272  , 0.02272803],\n",
       "       [0.9277174 , 0.07228263],\n",
       "       [0.7259871 , 0.27401292],\n",
       "       [0.9273056 , 0.07269443],\n",
       "       [0.720412  , 0.279588  ],\n",
       "       [0.95041376, 0.04958626],\n",
       "       [0.78973055, 0.21026947],\n",
       "       [0.9000657 , 0.09993429],\n",
       "       [0.9356962 , 0.06430382],\n",
       "       [0.9758303 , 0.02416969],\n",
       "       [0.97652596, 0.02347405],\n",
       "       [0.696741  , 0.30325904],\n",
       "       [0.9796219 , 0.02037808],\n",
       "       [0.94282913, 0.05717089],\n",
       "       [0.71768355, 0.28231645],\n",
       "       [0.9795434 , 0.0204566 ],\n",
       "       [0.23278409, 0.7672159 ],\n",
       "       [0.9204907 , 0.07950933],\n",
       "       [0.44828957, 0.5517104 ],\n",
       "       [0.9346688 , 0.06533121],\n",
       "       [0.9827989 , 0.01720112],\n",
       "       [0.9294987 , 0.07050136],\n",
       "       [0.9477031 , 0.05229686],\n",
       "       [0.48902923, 0.5109708 ],\n",
       "       [0.81310904, 0.18689099],\n",
       "       [0.9542293 , 0.04577068],\n",
       "       [0.8680532 , 0.13194679],\n",
       "       [0.8635937 , 0.13640632],\n",
       "       [0.98772955, 0.01227043],\n",
       "       [0.99075186, 0.00924816],\n",
       "       [0.85912526, 0.14087477],\n",
       "       [0.92260915, 0.07739086],\n",
       "       [0.9608943 , 0.03910574],\n",
       "       [0.59521824, 0.40478176],\n",
       "       [0.9774025 , 0.02259748],\n",
       "       [0.61351335, 0.38648662],\n",
       "       [0.9910777 , 0.00892226],\n",
       "       [0.95613164, 0.04386835],\n",
       "       [0.69204634, 0.30795366],\n",
       "       [0.98895514, 0.01104488],\n",
       "       [0.8962163 , 0.10378373],\n",
       "       [0.9787786 , 0.0212214 ],\n",
       "       [0.96433955, 0.03566045],\n",
       "       [0.9302994 , 0.06970057],\n",
       "       [0.9687586 , 0.03124141],\n",
       "       [0.6318129 , 0.36818713],\n",
       "       [0.9799037 , 0.02009629],\n",
       "       [0.939208  , 0.06079203],\n",
       "       [0.9912226 , 0.0087774 ],\n",
       "       [0.86386657, 0.13613346],\n",
       "       [0.81748885, 0.18251114],\n",
       "       [0.67218834, 0.32781166],\n",
       "       [0.9892644 , 0.0107356 ],\n",
       "       [0.9044105 , 0.09558953],\n",
       "       [0.9214372 , 0.07856281],\n",
       "       [0.82181513, 0.17818484],\n",
       "       [0.88382465, 0.11617535],\n",
       "       [0.82787323, 0.17212678],\n",
       "       [0.941668  , 0.05833201],\n",
       "       [0.9827051 , 0.01729486],\n",
       "       [0.79960316, 0.20039685],\n",
       "       [0.92776895, 0.07223107],\n",
       "       [0.9367988 , 0.06320118],\n",
       "       [0.9620542 , 0.0379458 ],\n",
       "       [0.9890878 , 0.01091218],\n",
       "       [0.90011483, 0.09988517],\n",
       "       [0.60612726, 0.3938727 ],\n",
       "       [0.85879475, 0.14120527],\n",
       "       [0.9464606 , 0.05353941],\n",
       "       [0.87324834, 0.12675166],\n",
       "       [0.9426848 , 0.05731516],\n",
       "       [0.9855794 , 0.01442066],\n",
       "       [0.87961537, 0.12038464],\n",
       "       [0.9789032 , 0.02109682],\n",
       "       [0.7007896 , 0.2992104 ],\n",
       "       [0.8485228 , 0.1514772 ],\n",
       "       [0.95009243, 0.04990754],\n",
       "       [0.8485298 , 0.1514702 ],\n",
       "       [0.982674  , 0.017326  ],\n",
       "       [0.8511733 , 0.14882672],\n",
       "       [0.90518975, 0.09481025],\n",
       "       [0.97102547, 0.02897454],\n",
       "       [0.97290504, 0.02709499],\n",
       "       [0.9693415 , 0.03065847],\n",
       "       [0.908492  , 0.09150797],\n",
       "       [0.95531946, 0.04468055],\n",
       "       [0.8572948 , 0.14270522],\n",
       "       [0.4546302 , 0.5453698 ],\n",
       "       [0.72842264, 0.27157733],\n",
       "       [0.9822025 , 0.01779752],\n",
       "       [0.96507674, 0.03492325],\n",
       "       [0.94734347, 0.05265656],\n",
       "       [0.9525037 , 0.04749629],\n",
       "       [0.97213626, 0.02786377],\n",
       "       [0.87774473, 0.12225524],\n",
       "       [0.6285579 , 0.37144205],\n",
       "       [0.8249297 , 0.17507029],\n",
       "       [0.8995167 , 0.10048329],\n",
       "       [0.955681  , 0.04431897],\n",
       "       [0.8352816 , 0.16471839],\n",
       "       [0.98406535, 0.01593462],\n",
       "       [0.9362246 , 0.06377544],\n",
       "       [0.26718307, 0.73281693],\n",
       "       [0.8665167 , 0.13348326],\n",
       "       [0.9282032 , 0.0717968 ],\n",
       "       [0.96674925, 0.03325076],\n",
       "       [0.8860615 , 0.11393849],\n",
       "       [0.87627834, 0.12372164],\n",
       "       [0.9114964 , 0.08850361],\n",
       "       [0.9791393 , 0.02086069],\n",
       "       [0.82736516, 0.17263483],\n",
       "       [0.9399391 , 0.06006091],\n",
       "       [0.967393  , 0.03260699],\n",
       "       [0.78341895, 0.21658103],\n",
       "       [0.9786708 , 0.0213292 ],\n",
       "       [0.9340745 , 0.06592549],\n",
       "       [0.96524847, 0.03475155],\n",
       "       [0.9788858 , 0.02111416],\n",
       "       [0.95465744, 0.04534256],\n",
       "       [0.8763454 , 0.12365461],\n",
       "       [0.7139362 , 0.28606376],\n",
       "       [0.9856905 , 0.01430952],\n",
       "       [0.95603085, 0.04396914],\n",
       "       [0.9424583 , 0.05754172],\n",
       "       [0.8216658 , 0.17833418],\n",
       "       [0.9838034 , 0.0161966 ],\n",
       "       [0.9841767 , 0.01582331],\n",
       "       [0.96843314, 0.03156684],\n",
       "       [0.8376706 , 0.16232936],\n",
       "       [0.98105526, 0.01894474],\n",
       "       [0.93125796, 0.06874207],\n",
       "       [0.82954043, 0.17045957],\n",
       "       [0.95540875, 0.04459127],\n",
       "       [0.93060666, 0.06939334],\n",
       "       [0.7419524 , 0.25804758],\n",
       "       [0.9797182 , 0.0202818 ],\n",
       "       [0.9892006 , 0.01079943],\n",
       "       [0.6501585 , 0.3498415 ],\n",
       "       [0.9493758 , 0.05062417],\n",
       "       [0.55930847, 0.44069153],\n",
       "       [0.9517045 , 0.04829552],\n",
       "       [0.8256143 , 0.17438571],\n",
       "       [0.96384853, 0.03615147],\n",
       "       [0.9623369 , 0.03766308],\n",
       "       [0.92696553, 0.07303445],\n",
       "       [0.93633884, 0.06366117],\n",
       "       [0.9867163 , 0.01328375],\n",
       "       [0.92285043, 0.07714957],\n",
       "       [0.96239275, 0.03760723],\n",
       "       [0.9095552 , 0.09044479],\n",
       "       [0.8051332 , 0.19486675],\n",
       "       [0.99003404, 0.00996595],\n",
       "       [0.8771759 , 0.12282406],\n",
       "       [0.8299847 , 0.17001526],\n",
       "       [0.5102618 , 0.48973826],\n",
       "       [0.72767437, 0.27232563],\n",
       "       [0.53769267, 0.46230736],\n",
       "       [0.9391219 , 0.06087808],\n",
       "       [0.9672026 , 0.03279742],\n",
       "       [0.8522042 , 0.14779577],\n",
       "       [0.96458685, 0.03541312]], dtype=float32)"
      ]
     },
     "execution_count": 272,
     "metadata": {},
     "output_type": "execute_result"
    }
   ],
   "source": [
    "y_test "
   ]
  },
  {
   "cell_type": "code",
   "execution_count": 274,
   "metadata": {
    "collapsed": true
   },
   "outputs": [],
   "source": [
    "from sklearn.metrics import accuracy_score\n",
    "from sklearn.metrics import confusion_matrix\n"
   ]
  },
  {
   "cell_type": "code",
   "execution_count": 282,
   "metadata": {
    "collapsed": true
   },
   "outputs": [],
   "source": [
    "rand_pred=random_search.predict(test_features)"
   ]
  },
  {
   "cell_type": "code",
   "execution_count": 277,
   "metadata": {},
   "outputs": [
    {
     "data": {
      "text/plain": [
       "0.035326086956521736"
      ]
     },
     "execution_count": 277,
     "metadata": {},
     "output_type": "execute_result"
    }
   ],
   "source": [
    "accuracy_score(train_labels, random_search.predict(train_features))\n",
    "accuracy_score(test_labels, random_search.predict(test_features))"
   ]
  },
  {
   "cell_type": "code",
   "execution_count": 278,
   "metadata": {},
   "outputs": [
    {
     "data": {
      "text/plain": [
       "0.029891304347826088"
      ]
     },
     "execution_count": 278,
     "metadata": {},
     "output_type": "execute_result"
    }
   ],
   "source": [
    "accuracy_score(train_labels, grid.best_estimator_.predict(train_features))\n",
    "accuracy_score(test_labels, grid.best_estimator_.predict(test_features))"
   ]
  },
  {
   "cell_type": "code",
   "execution_count": 283,
   "metadata": {
    "collapsed": true
   },
   "outputs": [],
   "source": [
    "grid_pred=grid.best_estimator_.predict(test_features)"
   ]
  },
  {
   "cell_type": "code",
   "execution_count": 285,
   "metadata": {},
   "outputs": [
    {
     "name": "stdout",
     "output_type": "stream",
     "text": [
      "             precision    recall  f1-score   support\n",
      "\n",
      "          0       0.00      0.00      0.00         0\n",
      "          1       0.76      0.27      0.40        48\n",
      "          2       0.00      0.00      0.00       320\n",
      "\n",
      "avg / total       0.10      0.04      0.05       368\n",
      "\n"
     ]
    }
   ],
   "source": [
    "confusion_matrix(test_labels, random_search.predict(test_features))\n",
    "from sklearn.metrics import classification_report\n",
    "print(classification_report(test_labels,rand_pred ))\n"
   ]
  },
  {
   "cell_type": "code",
   "execution_count": 286,
   "metadata": {},
   "outputs": [
    {
     "name": "stdout",
     "output_type": "stream",
     "text": [
      "             precision    recall  f1-score   support\n",
      "\n",
      "          0       0.00      0.00      0.00         0\n",
      "          1       0.61      0.23      0.33        48\n",
      "          2       0.00      0.00      0.00       320\n",
      "\n",
      "avg / total       0.08      0.03      0.04       368\n",
      "\n"
     ]
    }
   ],
   "source": [
    "confusion_matrix(test_labels, grid.best_estimator_.predict(test_features))\n",
    "print(classification_report(test_labels,grid_pred ))"
   ]
  },
  {
   "cell_type": "code",
   "execution_count": 201,
   "metadata": {
    "scrolled": true
   },
   "outputs": [
    {
     "ename": "NameError",
     "evalue": "name 'baseline_results' is not defined",
     "output_type": "error",
     "traceback": [
      "\u001b[1;31m---------------------------------------------------------------------------\u001b[0m",
      "\u001b[1;31mNameError\u001b[0m                                 Traceback (most recent call last)",
      "\u001b[1;32m<ipython-input-201-1a611404e396>\u001b[0m in \u001b[0;36m<module>\u001b[1;34m()\u001b[0m\n\u001b[1;32m----> 1\u001b[1;33m comparison = {'model': [baseline_results['model'], one_year_results['model']],\n\u001b[0m\u001b[0;32m      2\u001b[0m               \u001b[1;34m'accuracy'\u001b[0m\u001b[1;33m:\u001b[0m \u001b[1;33m[\u001b[0m\u001b[0mround\u001b[0m\u001b[1;33m(\u001b[0m\u001b[0mbaseline_results\u001b[0m\u001b[1;33m[\u001b[0m\u001b[1;34m'accuracy'\u001b[0m\u001b[1;33m]\u001b[0m\u001b[1;33m,\u001b[0m \u001b[1;36m3\u001b[0m\u001b[1;33m)\u001b[0m\u001b[1;33m,\u001b[0m \u001b[0mround\u001b[0m\u001b[1;33m(\u001b[0m\u001b[0mone_year_results\u001b[0m\u001b[1;33m[\u001b[0m\u001b[1;34m'accuracy'\u001b[0m\u001b[1;33m]\u001b[0m\u001b[1;33m,\u001b[0m \u001b[1;36m3\u001b[0m\u001b[1;33m)\u001b[0m\u001b[1;33m]\u001b[0m\u001b[1;33m,\u001b[0m\u001b[1;33m\u001b[0m\u001b[0m\n\u001b[0;32m      3\u001b[0m               \u001b[1;34m'error'\u001b[0m\u001b[1;33m:\u001b[0m \u001b[1;33m[\u001b[0m\u001b[0mround\u001b[0m\u001b[1;33m(\u001b[0m\u001b[0mbaseline_results\u001b[0m\u001b[1;33m[\u001b[0m\u001b[1;34m'error'\u001b[0m\u001b[1;33m]\u001b[0m\u001b[1;33m,\u001b[0m \u001b[1;36m3\u001b[0m\u001b[1;33m)\u001b[0m\u001b[1;33m,\u001b[0m \u001b[0mround\u001b[0m\u001b[1;33m(\u001b[0m\u001b[0mone_year_results\u001b[0m\u001b[1;33m[\u001b[0m\u001b[1;34m'error'\u001b[0m\u001b[1;33m]\u001b[0m\u001b[1;33m,\u001b[0m \u001b[1;36m3\u001b[0m\u001b[1;33m)\u001b[0m\u001b[1;33m]\u001b[0m\u001b[1;33m,\u001b[0m\u001b[1;33m\u001b[0m\u001b[0m\n\u001b[0;32m      4\u001b[0m               \u001b[1;34m'n_features'\u001b[0m\u001b[1;33m:\u001b[0m \u001b[1;33m[\u001b[0m\u001b[0mbaseline_results\u001b[0m\u001b[1;33m[\u001b[0m\u001b[1;34m'n_features'\u001b[0m\u001b[1;33m]\u001b[0m\u001b[1;33m,\u001b[0m \u001b[0mone_year_results\u001b[0m\u001b[1;33m[\u001b[0m\u001b[1;34m'n_features'\u001b[0m\u001b[1;33m]\u001b[0m\u001b[1;33m]\u001b[0m\u001b[1;33m,\u001b[0m\u001b[1;33m\u001b[0m\u001b[0m\n\u001b[0;32m      5\u001b[0m               \u001b[1;34m'n_trees'\u001b[0m\u001b[1;33m:\u001b[0m \u001b[1;33m[\u001b[0m\u001b[0mbaseline_results\u001b[0m\u001b[1;33m[\u001b[0m\u001b[1;34m'n_trees'\u001b[0m\u001b[1;33m]\u001b[0m\u001b[1;33m,\u001b[0m \u001b[0mint\u001b[0m\u001b[1;33m(\u001b[0m\u001b[0mone_year_results\u001b[0m\u001b[1;33m[\u001b[0m\u001b[1;34m'n_trees'\u001b[0m\u001b[1;33m]\u001b[0m\u001b[1;33m)\u001b[0m\u001b[1;33m]\u001b[0m\u001b[1;33m,\u001b[0m\u001b[1;33m\u001b[0m\u001b[0m\n",
      "\u001b[1;31mNameError\u001b[0m: name 'baseline_results' is not defined"
     ]
    }
   ],
   "source": [
    "comparison = {'model': [baseline_results['model'], one_year_results['model']],\n",
    "              'accuracy': [round(baseline_results['accuracy'], 3), round(one_year_results['accuracy'], 3)],\n",
    "              'error': [round(baseline_results['error'], 3), round(one_year_results['error'], 3)],\n",
    "              'n_features': [baseline_results['n_features'], one_year_results['n_features']],\n",
    "              'n_trees': [baseline_results['n_trees'], int(one_year_results['n_trees'])],\n",
    "              'time': [round(baseline_results['time'], 4), round(one_year_results['time'], 4)]}\n",
    "                        \n",
    "for model in [random_results, first_grid_results, final_model_results]:\n",
    "    comparison['accuracy'].append(round(model['accuracy'], 3))\n",
    "    comparison['error'].append(round(model['error'], 3))\n",
    "    comparison['model'].append(model['model'])\n",
    "    comparison['n_features'].append(model['n_features'])\n",
    "    comparison['n_trees'].append(int(model['n_trees']))\n",
    "    comparison['time'].append(round(model['time'], 4))"
   ]
  },
  {
   "cell_type": "markdown",
   "metadata": {},
   "source": [
    "![Small Decision Tree](small_tree.PNG)"
   ]
  },
  {
   "cell_type": "markdown",
   "metadata": {},
   "source": [
    "### Annotated Version of Tree"
   ]
  },
  {
   "cell_type": "markdown",
   "metadata": {},
   "source": [
    "![Annotated Decision Tree](small_tree_annotated.PNG)"
   ]
  },
  {
   "cell_type": "markdown",
   "metadata": {},
   "source": [
    "## Variable Importances"
   ]
  },
  {
   "cell_type": "code",
   "execution_count": 139,
   "metadata": {},
   "outputs": [
    {
     "name": "stdout",
     "output_type": "stream",
     "text": [
      "Variable: RelationshipSatisfaction_2 Importance: 0.12\n",
      "Variable: OverTime_1           Importance: 0.06\n",
      "Variable: MaritalStatus_3      Importance: 0.05\n",
      "Variable: StockOptionLevel_2   Importance: 0.05\n",
      "Variable: JobLevel_5           Importance: 0.04\n",
      "Variable: JobRole_1            Importance: 0.04\n",
      "Variable: OverTime_2           Importance: 0.04\n",
      "Variable: RelationshipSatisfaction_1 Importance: 0.04\n",
      "Variable: RelationshipSatisfaction_3 Importance: 0.04\n",
      "Variable: RelationshipSatisfaction_4 Importance: 0.04\n",
      "Variable: WorkLifeBalance_1    Importance: 0.04\n",
      "Variable: StockOptionLevel_0   Importance: 0.03\n",
      "Variable: StockOptionLevel_3   Importance: 0.03\n",
      "Variable: WorkLifeBalance_3    Importance: 0.03\n",
      "Variable: JobLevel_2           Importance: 0.02\n",
      "Variable: JobRole_8            Importance: 0.02\n",
      "Variable: WorkLifeBalance_2    Importance: 0.02\n",
      "Variable: WorkLifeBalance_4    Importance: 0.02\n",
      "Variable: DailyRate            Importance: 0.01\n",
      "Variable: EmployeeCount        Importance: 0.01\n",
      "Variable: YearsInCurrentRole   Importance: 0.01\n",
      "Variable: YearsSinceLastPromotion Importance: 0.01\n",
      "Variable: YearsWithCurr7       Importance: 0.01\n",
      "Variable: BusinessTravel_1     Importance: 0.01\n",
      "Variable: BusinessTravel_2     Importance: 0.01\n",
      "Variable: BusinessTravel_3     Importance: 0.01\n",
      "Variable: Department_2         Importance: 0.01\n",
      "Variable: Education_3          Importance: 0.01\n",
      "Variable: EducationField_3     Importance: 0.01\n",
      "Variable: EducationField_4     Importance: 0.01\n",
      "Variable: EducationField_6     Importance: 0.01\n",
      "Variable: EnvironmentSatisfaction_4 Importance: 0.01\n",
      "Variable: JobInvolvement_2     Importance: 0.01\n",
      "Variable: JobInvolvement_4     Importance: 0.01\n",
      "Variable: JobLevel_1           Importance: 0.01\n",
      "Variable: JobLevel_4           Importance: 0.01\n",
      "Variable: JobRole_4            Importance: 0.01\n",
      "Variable: JobRole_7            Importance: 0.01\n",
      "Variable: JobRole_9            Importance: 0.01\n",
      "Variable: JobSatisfaction_3    Importance: 0.01\n",
      "Variable: JobSatisfaction_4    Importance: 0.01\n",
      "Variable: MaritalStatus_1      Importance: 0.01\n",
      "Variable: PerformanceRating_4  Importance: 0.01\n",
      "Variable: Age                  Importance: 0.0\n",
      "Variable: DistanceFromHome     Importance: 0.0\n",
      "Variable: Gender               Importance: 0.0\n",
      "Variable: HourlyRate           Importance: 0.0\n",
      "Variable: MonthlyIncome        Importance: 0.0\n",
      "Variable: MonthlyRate          Importance: 0.0\n",
      "Variable: NumCompaniesWorked   Importance: 0.0\n",
      "Variable: PercentSalaryHike    Importance: 0.0\n",
      "Variable: StandardHours        Importance: 0.0\n",
      "Variable: TotalWorkingYears    Importance: 0.0\n",
      "Variable: TrainingTimesLastYear Importance: 0.0\n",
      "Variable: YearsAtCompany       Importance: 0.0\n",
      "Variable: Department_1         Importance: 0.0\n",
      "Variable: Department_3         Importance: 0.0\n",
      "Variable: Education_1          Importance: 0.0\n",
      "Variable: Education_2          Importance: 0.0\n",
      "Variable: Education_4          Importance: 0.0\n",
      "Variable: Education_5          Importance: 0.0\n",
      "Variable: EducationField_1     Importance: 0.0\n",
      "Variable: EducationField_2     Importance: 0.0\n",
      "Variable: EducationField_5     Importance: 0.0\n",
      "Variable: EnvironmentSatisfaction_1 Importance: 0.0\n",
      "Variable: EnvironmentSatisfaction_2 Importance: 0.0\n",
      "Variable: EnvironmentSatisfaction_3 Importance: 0.0\n",
      "Variable: JobInvolvement_1     Importance: 0.0\n",
      "Variable: JobInvolvement_3     Importance: 0.0\n",
      "Variable: JobLevel_3           Importance: 0.0\n",
      "Variable: JobRole_2            Importance: 0.0\n",
      "Variable: JobRole_3            Importance: 0.0\n",
      "Variable: JobRole_5            Importance: 0.0\n",
      "Variable: JobRole_6            Importance: 0.0\n",
      "Variable: JobSatisfaction_1    Importance: 0.0\n",
      "Variable: JobSatisfaction_2    Importance: 0.0\n",
      "Variable: MaritalStatus_2      Importance: 0.0\n",
      "Variable: PerformanceRating_3  Importance: 0.0\n",
      "Variable: StockOptionLevel_1   Importance: 0.0\n"
     ]
    }
   ],
   "source": [
    "# Get numerical feature importances\n",
    "importances = list(rf.feature_importances_)\n",
    "\n",
    "# List of tuples with variable and importance\n",
    "feature_importances = [(feature, round(importance, 2)) for feature, importance in zip(feature_list, importances)]\n",
    "\n",
    "# Sort the feature importances by most important first\n",
    "feature_importances = sorted(feature_importances, key = lambda x: x[1], reverse = True)\n",
    "\n",
    "# Print out the feature and importances \n",
    "[print('Variable: {:20} Importance: {}'.format(*pair)) for pair in feature_importances];"
   ]
  },
  {
   "cell_type": "markdown",
   "metadata": {},
   "source": [
    "### Two Most Important Features"
   ]
  },
  {
   "cell_type": "code",
   "execution_count": 140,
   "metadata": {},
   "outputs": [
    {
     "ename": "ValueError",
     "evalue": "'temp_1' is not in list",
     "output_type": "error",
     "traceback": [
      "\u001b[1;31m---------------------------------------------------------------------------\u001b[0m",
      "\u001b[1;31mValueError\u001b[0m                                Traceback (most recent call last)",
      "\u001b[1;32m<ipython-input-140-9096a87bed66>\u001b[0m in \u001b[0;36m<module>\u001b[1;34m()\u001b[0m\n\u001b[0;32m      3\u001b[0m \u001b[1;33m\u001b[0m\u001b[0m\n\u001b[0;32m      4\u001b[0m \u001b[1;31m# Extract the two most important features\u001b[0m\u001b[1;33m\u001b[0m\u001b[1;33m\u001b[0m\u001b[0m\n\u001b[1;32m----> 5\u001b[1;33m \u001b[0mimportant_indices\u001b[0m \u001b[1;33m=\u001b[0m \u001b[1;33m[\u001b[0m\u001b[0mfeature_list\u001b[0m\u001b[1;33m.\u001b[0m\u001b[0mindex\u001b[0m\u001b[1;33m(\u001b[0m\u001b[1;34m'temp_1'\u001b[0m\u001b[1;33m)\u001b[0m\u001b[1;33m,\u001b[0m \u001b[0mfeature_list\u001b[0m\u001b[1;33m.\u001b[0m\u001b[0mindex\u001b[0m\u001b[1;33m(\u001b[0m\u001b[1;34m'average'\u001b[0m\u001b[1;33m)\u001b[0m\u001b[1;33m]\u001b[0m\u001b[1;33m\u001b[0m\u001b[0m\n\u001b[0m\u001b[0;32m      6\u001b[0m \u001b[0mtrain_important\u001b[0m \u001b[1;33m=\u001b[0m \u001b[0mtrain_features\u001b[0m\u001b[1;33m[\u001b[0m\u001b[1;33m:\u001b[0m\u001b[1;33m,\u001b[0m \u001b[0mimportant_indices\u001b[0m\u001b[1;33m]\u001b[0m\u001b[1;33m\u001b[0m\u001b[0m\n\u001b[0;32m      7\u001b[0m \u001b[0mtest_important\u001b[0m \u001b[1;33m=\u001b[0m \u001b[0mtest_features\u001b[0m\u001b[1;33m[\u001b[0m\u001b[1;33m:\u001b[0m\u001b[1;33m,\u001b[0m \u001b[0mimportant_indices\u001b[0m\u001b[1;33m]\u001b[0m\u001b[1;33m\u001b[0m\u001b[0m\n",
      "\u001b[1;31mValueError\u001b[0m: 'temp_1' is not in list"
     ]
    }
   ],
   "source": [
    "# New random forest with only the two most important variables\n",
    "rf_most_important = RandomForestRegressor(n_estimators= 1000, random_state=42)\n",
    "\n",
    "# Extract the two most important features\n",
    "important_indices = [feature_list.index('temp_1'), feature_list.index('average')]\n",
    "train_important = train_features[:, important_indices]\n",
    "test_important = test_features[:, important_indices]\n",
    "\n",
    "# Train the random forest\n",
    "rf_most_important.fit(train_important, train_labels)\n",
    "\n",
    "# Make predictions and determine the error\n",
    "predictions = rf_most_important.predict(test_important)\n",
    "\n",
    "errors = abs(predictions - test_labels)\n",
    "\n",
    "# Display the performance metrics\n",
    "print('Mean Absolute Error:', round(np.mean(errors), 2), 'degrees.')\n",
    "\n",
    "mape = np.mean(100 * (errors / test_labels))\n",
    "accuracy = 100 - mape\n",
    "\n",
    "print('Accuracy:', round(accuracy, 2), '%.')"
   ]
  },
  {
   "cell_type": "markdown",
   "metadata": {
    "collapsed": true
   },
   "source": [
    "## Visualizations"
   ]
  },
  {
   "cell_type": "code",
   "execution_count": 141,
   "metadata": {},
   "outputs": [
    {
     "data": {
      "image/png": "[encoded data removed]",
      "text/plain": [
       "<matplotlib.figure.Figure at 0x1bf258b4940>"
      ]
     },
     "metadata": {},
     "output_type": "display_data"
    }
   ],
   "source": [
    "# Import matplotlib for plotting and use magic command for Jupyter Notebooks\n",
    "import matplotlib.pyplot as plt\n",
    "\n",
    "%matplotlib inline\n",
    "\n",
    "# Set the style\n",
    "plt.style.use('fivethirtyeight')\n",
    "\n",
    "# list of x locations for plotting\n",
    "x_values = list(range(len(importances)))\n",
    "\n",
    "# Make a bar chart\n",
    "plt.bar(x_values, importances, orientation = 'vertical')\n",
    "\n",
    "# Tick labels for x axis\n",
    "plt.xticks(x_values, feature_list, rotation='vertical')\n",
    "\n",
    "# Axis labels and title\n",
    "plt.ylabel('Importance'); plt.xlabel('Variable'); plt.title('Variable Importances'); "
   ]
  },
  {
   "cell_type": "code",
   "execution_count": 142,
   "metadata": {},
   "outputs": [
    {
     "ename": "ValueError",
     "evalue": "'month' is not in list",
     "output_type": "error",
     "traceback": [
      "\u001b[1;31m---------------------------------------------------------------------------\u001b[0m",
      "\u001b[1;31mValueError\u001b[0m                                Traceback (most recent call last)",
      "\u001b[1;32m<ipython-input-142-ff6f33a9eb53>\u001b[0m in \u001b[0;36m<module>\u001b[1;34m()\u001b[0m\n\u001b[0;32m      2\u001b[0m \u001b[1;33m\u001b[0m\u001b[0m\n\u001b[0;32m      3\u001b[0m \u001b[1;31m# Dates of training values\u001b[0m\u001b[1;33m\u001b[0m\u001b[1;33m\u001b[0m\u001b[0m\n\u001b[1;32m----> 4\u001b[1;33m \u001b[0mmonths\u001b[0m \u001b[1;33m=\u001b[0m \u001b[0mfeatures\u001b[0m\u001b[1;33m[\u001b[0m\u001b[1;33m:\u001b[0m\u001b[1;33m,\u001b[0m \u001b[0mfeature_list\u001b[0m\u001b[1;33m.\u001b[0m\u001b[0mindex\u001b[0m\u001b[1;33m(\u001b[0m\u001b[1;34m'month'\u001b[0m\u001b[1;33m)\u001b[0m\u001b[1;33m]\u001b[0m\u001b[1;33m\u001b[0m\u001b[0m\n\u001b[0m\u001b[0;32m      5\u001b[0m \u001b[0mdays\u001b[0m \u001b[1;33m=\u001b[0m \u001b[0mfeatures\u001b[0m\u001b[1;33m[\u001b[0m\u001b[1;33m:\u001b[0m\u001b[1;33m,\u001b[0m \u001b[0mfeature_list\u001b[0m\u001b[1;33m.\u001b[0m\u001b[0mindex\u001b[0m\u001b[1;33m(\u001b[0m\u001b[1;34m'day'\u001b[0m\u001b[1;33m)\u001b[0m\u001b[1;33m]\u001b[0m\u001b[1;33m\u001b[0m\u001b[0m\n\u001b[0;32m      6\u001b[0m \u001b[0myears\u001b[0m \u001b[1;33m=\u001b[0m \u001b[0mfeatures\u001b[0m\u001b[1;33m[\u001b[0m\u001b[1;33m:\u001b[0m\u001b[1;33m,\u001b[0m \u001b[0mfeature_list\u001b[0m\u001b[1;33m.\u001b[0m\u001b[0mindex\u001b[0m\u001b[1;33m(\u001b[0m\u001b[1;34m'year'\u001b[0m\u001b[1;33m)\u001b[0m\u001b[1;33m]\u001b[0m\u001b[1;33m\u001b[0m\u001b[0m\n",
      "\u001b[1;31mValueError\u001b[0m: 'month' is not in list"
     ]
    }
   ],
   "source": [
    "import datetime\n",
    "\n",
    "# Dates of training values\n",
    "months = features[:, feature_list.index('month')]\n",
    "days = features[:, feature_list.index('day')]\n",
    "years = features[:, feature_list.index('year')]\n",
    "\n",
    "# List and then convert to datetime object\n",
    "dates = [str(int(year)) + '-' + str(int(month)) + '-' + str(int(day)) for year, month, day in zip(years, months, days)]\n",
    "dates = [datetime.datetime.strptime(date, '%Y-%m-%d') for date in dates]\n",
    "\n",
    "# Dataframe with true values and dates\n",
    "true_data = pd.DataFrame(data = {'date': dates, 'actual': labels})\n",
    "\n",
    "# Dates of predictions\n",
    "months = test_features[:, feature_list.index('month')]\n",
    "days = test_features[:, feature_list.index('day')]\n",
    "years = test_features[:, feature_list.index('year')]\n",
    "\n",
    "# Column of dates\n",
    "test_dates = [str(int(year)) + '-' + str(int(month)) + '-' + str(int(day)) for year, month, day in zip(years, months, days)]\n",
    "\n",
    "# Convert to datetime objects\n",
    "test_dates = [datetime.datetime.strptime(date, '%Y-%m-%d') for date in test_dates]\n",
    "\n",
    "# Dataframe with predictions and dates\n",
    "predictions_data = pd.DataFrame(data = {'date': test_dates, 'prediction': predictions}) "
   ]
  },
  {
   "cell_type": "code",
   "execution_count": 20,
   "metadata": {},
   "outputs": [
    {
     "data": {
      "image/png": "[encoded data removed]",
      "text/plain": [
       "<matplotlib.figure.Figure at 0x21b410a4908>"
      ]
     },
     "metadata": {},
     "output_type": "display_data"
    }
   ],
   "source": [
    "# Plot the actual values\n",
    "plt.plot(true_data['date'], true_data['actual'], 'b-', label = 'actual')\n",
    "\n",
    "# Plot the predicted values\n",
    "plt.plot(predictions_data['date'], predictions_data['prediction'], 'ro', label = 'prediction')\n",
    "plt.xticks(rotation = '60'); \n",
    "plt.legend()\n",
    "\n",
    "# Graph labels\n",
    "plt.xlabel('Date'); plt.ylabel('Maximum Temperature (F)'); plt.title('Actual and Predicted Values');\n"
   ]
  },
  {
   "cell_type": "code",
   "execution_count": 143,
   "metadata": {},
   "outputs": [
    {
     "ename": "ValueError",
     "evalue": "'temp_1' is not in list",
     "output_type": "error",
     "traceback": [
      "\u001b[1;31m---------------------------------------------------------------------------\u001b[0m",
      "\u001b[1;31mValueError\u001b[0m                                Traceback (most recent call last)",
      "\u001b[1;32m<ipython-input-143-044dac9ef6ce>\u001b[0m in \u001b[0;36m<module>\u001b[1;34m()\u001b[0m\n\u001b[0;32m      1\u001b[0m \u001b[1;31m# Make the data accessible for plotting\u001b[0m\u001b[1;33m\u001b[0m\u001b[1;33m\u001b[0m\u001b[0m\n\u001b[1;32m----> 2\u001b[1;33m \u001b[0mtrue_data\u001b[0m\u001b[1;33m[\u001b[0m\u001b[1;34m'temp_1'\u001b[0m\u001b[1;33m]\u001b[0m \u001b[1;33m=\u001b[0m \u001b[0mfeatures\u001b[0m\u001b[1;33m[\u001b[0m\u001b[1;33m:\u001b[0m\u001b[1;33m,\u001b[0m \u001b[0mfeature_list\u001b[0m\u001b[1;33m.\u001b[0m\u001b[0mindex\u001b[0m\u001b[1;33m(\u001b[0m\u001b[1;34m'temp_1'\u001b[0m\u001b[1;33m)\u001b[0m\u001b[1;33m]\u001b[0m\u001b[1;33m\u001b[0m\u001b[0m\n\u001b[0m\u001b[0;32m      3\u001b[0m \u001b[0mtrue_data\u001b[0m\u001b[1;33m[\u001b[0m\u001b[1;34m'average'\u001b[0m\u001b[1;33m]\u001b[0m \u001b[1;33m=\u001b[0m \u001b[0mfeatures\u001b[0m\u001b[1;33m[\u001b[0m\u001b[1;33m:\u001b[0m\u001b[1;33m,\u001b[0m \u001b[0mfeature_list\u001b[0m\u001b[1;33m.\u001b[0m\u001b[0mindex\u001b[0m\u001b[1;33m(\u001b[0m\u001b[1;34m'average'\u001b[0m\u001b[1;33m)\u001b[0m\u001b[1;33m]\u001b[0m\u001b[1;33m\u001b[0m\u001b[0m\n\u001b[0;32m      4\u001b[0m \u001b[0mtrue_data\u001b[0m\u001b[1;33m[\u001b[0m\u001b[1;34m'friend'\u001b[0m\u001b[1;33m]\u001b[0m \u001b[1;33m=\u001b[0m \u001b[0mfeatures\u001b[0m\u001b[1;33m[\u001b[0m\u001b[1;33m:\u001b[0m\u001b[1;33m,\u001b[0m \u001b[0mfeature_list\u001b[0m\u001b[1;33m.\u001b[0m\u001b[0mindex\u001b[0m\u001b[1;33m(\u001b[0m\u001b[1;34m'friend'\u001b[0m\u001b[1;33m)\u001b[0m\u001b[1;33m]\u001b[0m\u001b[1;33m\u001b[0m\u001b[0m\n\u001b[0;32m      5\u001b[0m \u001b[1;33m\u001b[0m\u001b[0m\n",
      "\u001b[1;31mValueError\u001b[0m: 'temp_1' is not in list"
     ]
    }
   ],
   "source": [
    "# Make the data accessible for plotting\n",
    "true_data['temp_1'] = features[:, feature_list.index('temp_1')]\n",
    "true_data['average'] = features[:, feature_list.index('average')]\n",
    "true_data['friend'] = features[:, feature_list.index('friend')]\n",
    "\n",
    "# Plot all the data as lines\n",
    "plt.plot(true_data['date'], true_data['actual'], 'b-', label  = 'actual', alpha = 1.0)\n",
    "plt.plot(true_data['date'], true_data['temp_1'], 'y-', label  = 'temp_1', alpha = 1.0)\n",
    "plt.plot(true_data['date'], true_data['average'], 'k-', label = 'average', alpha = 0.8)\n",
    "plt.plot(true_data['date'], true_data['friend'], 'r-', label = 'friend', alpha = 0.3)\n",
    "\n",
    "# Formatting plot\n",
    "plt.legend(); plt.xticks(rotation = '60');\n",
    "\n",
    "# Lables and title\n",
    "plt.xlabel('Date'); plt.ylabel('Maximum Temperature (F)'); plt.title('Actual Max Temp and Variables');"
   ]
  },
  {
   "cell_type": "code",
   "execution_count": null,
   "metadata": {
    "collapsed": true
   },
   "outputs": [],
   "source": []
  }
 ],
 "metadata": {
  "hide_code_all_hidden": false,
  "kernelspec": {
   "display_name": "Python 3",
   "language": "python",
   "name": "python3"
  },
  "language_info": {
   "codemirror_mode": {
    "name": "ipython",
    "version": 3
   },
   "file_extension": ".py",
   "mimetype": "text/x-python",
   "name": "python",
   "nbconvert_exporter": "python",
   "pygments_lexer": "ipython3",
   "version": "3.6.7"
  }
 },
 "nbformat": 4,
 "nbformat_minor": 2
}
